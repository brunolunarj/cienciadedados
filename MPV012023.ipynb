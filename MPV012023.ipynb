{
  "nbformat": 4,
  "nbformat_minor": 0,
  "metadata": {
    "colab": {
      "provenance": [],
      "authorship_tag": "ABX9TyNYL7St+npSV9p+M8qha0Bt",
      "include_colab_link": true
    },
    "kernelspec": {
      "name": "python3",
      "display_name": "Python 3"
    },
    "language_info": {
      "name": "python"
    }
  },
  "cells": [
    {
      "cell_type": "markdown",
      "metadata": {
        "id": "view-in-github",
        "colab_type": "text"
      },
      "source": [
        "<a href=\"https://colab.research.google.com/github/brunolunarj/cienciadedados/blob/main/MPV012023.ipynb\" target=\"_parent\"><img src=\"https://colab.research.google.com/assets/colab-badge.svg\" alt=\"Open In Colab\"/></a>"
      ]
    },
    {
      "cell_type": "markdown",
      "source": [
        "# **MVP PUCRIO - Sprint I: Análise de Dados e Boas Práticas**"
      ],
      "metadata": {
        "id": "8GQnMcSEf1dm"
      }
    },
    {
      "cell_type": "markdown",
      "source": [
        "## 1 - DEFINIÇÃO DO PROBLEMA\n",
        "---\n",
        "\n",
        "\n"
      ],
      "metadata": {
        "id": "_-5DmxCOih5k"
      }
    },
    {
      "cell_type": "markdown",
      "source": [
        "Fazer análise dos dados Previdenciários dos benefícios de **Auxílio-Doença e Auxílio-Doença por Acidente de trabalho, *CONCEDIDOS* no ano de 2022** pelo **INSS** e verificar insigts para melhorar a análise e concessão dos benefícios por incapacidade. Os dados foram retirados do sistema de Banco de Dados interno nos moldes do fornecido no  Dados Abertos do Instituto (https://dados.gov.br/dados/organizacoes/visualizar/instituto-nacional-de-seguro-social-inss).\n",
        "\n",
        "O **Instituto Nacional de Seguro Social - INSS** caracteriza-se como uma organização pública prestadora de serviços previdenciários para a sociedade brasileira."
      ],
      "metadata": {
        "id": "tzzwtdvnivQ4"
      }
    },
    {
      "cell_type": "markdown",
      "source": [
        "**Dicionário de Dados - Atributos (COLUNAS)**\n",
        ">**0   Competência concessão** - Mês que foi concedido o benefício <br>\n",
        ">**1   Espécie** - Espécie do benefício Previdenciário <br>\n",
        ">**2   CID** - Codigo Internacional de Doenças <br>\n",
        ">**3   Despacho** - Tipo de concessão <br>\n",
        ">**4   Dt Nascimento** - Data de nascimento do benefício <br>\n",
        ">**5   Sexo.** - Sexo Masculino ou Feminino <br>\n",
        ">**6   Clientela** - Especificação do benefício por zona <br>\n",
        ">**7   Tipo de Cálculo** - Como é calculado do benefício <br>\n",
        ">**8   Mun. Resid.** - Município do Segurado do benefício <br>\n",
        ">**9   Estado** - Estado do Segurado do benefício <br>\n",
        ">**10  Forma Filiação** - Filiação do Segurado no momento da concessão <br>\n",
        ">**11  Qt SM RMI** - Quantidade de Salário Mínimo da RMI <br>"
      ],
      "metadata": {
        "id": "LWJ-fKIu507m"
      }
    },
    {
      "cell_type": "markdown",
      "source": [
        "## 2 - COLETA E ANÁLISE INICIAL DOS DADOS\n",
        "\n",
        "---\n",
        "\n"
      ],
      "metadata": {
        "id": "Ca0la90NzaZw"
      }
    },
    {
      "cell_type": "markdown",
      "source": [
        "### 2.1 - IMPORTAÇÃO DE PACOTES E COLETA DOS DADOS"
      ],
      "metadata": {
        "id": "AxCUuybijimP"
      }
    },
    {
      "cell_type": "code",
      "execution_count": 34,
      "metadata": {
        "colab": {
          "base_uri": "https://localhost:8080/",
          "height": 650
        },
        "id": "QHBQ2-oOfuoW",
        "outputId": "e569051e-5c81-4cc1-c34c-c1df91ee9923"
      },
      "outputs": [
        {
          "output_type": "display_data",
          "data": {
            "text/plain": [
              "   Competência concessão                                        Espécie  \\\n",
              "0                 202201  Auxílio Doenca Previdenciário                   \n",
              "1                 202201  Auxílio Doenca Previdenciário                   \n",
              "\n",
              "                                             CID                Despacho  \\\n",
              "0  K40   Hernia Inguinal                          Revisao Administrativa   \n",
              "1  I25.9 Doenc Isquemica Cronica do Coracao Ne          Concessao Normal   \n",
              "\n",
              "  Dt Nascimento          Sexo. Clientela           Tipo de Cálculo  \\\n",
              "0    1970-05-23  Masculino      Urbano    Calculo na Dib sem Fator   \n",
              "1    1962-08-31  Masculino      Rural     Rmi Informada/Salã¡Rio M   \n",
              "\n",
              "                        Mun. Resid. Estado       Forma Filiação  Qt SM RMI  \n",
              "0  Arapiraca                            AL  Desempregado             1.183  \n",
              "1  Batalha                              AL  Segurado Especial        1.000  "
            ],
            "text/html": [
              "\n",
              "  <div id=\"df-a619d6c0-9e4f-424e-b287-b1c6c1733ab2\">\n",
              "    <div class=\"colab-df-container\">\n",
              "      <div>\n",
              "<style scoped>\n",
              "    .dataframe tbody tr th:only-of-type {\n",
              "        vertical-align: middle;\n",
              "    }\n",
              "\n",
              "    .dataframe tbody tr th {\n",
              "        vertical-align: top;\n",
              "    }\n",
              "\n",
              "    .dataframe thead th {\n",
              "        text-align: right;\n",
              "    }\n",
              "</style>\n",
              "<table border=\"1\" class=\"dataframe\">\n",
              "  <thead>\n",
              "    <tr style=\"text-align: right;\">\n",
              "      <th></th>\n",
              "      <th>Competência concessão</th>\n",
              "      <th>Espécie</th>\n",
              "      <th>CID</th>\n",
              "      <th>Despacho</th>\n",
              "      <th>Dt Nascimento</th>\n",
              "      <th>Sexo.</th>\n",
              "      <th>Clientela</th>\n",
              "      <th>Tipo de Cálculo</th>\n",
              "      <th>Mun. Resid.</th>\n",
              "      <th>Estado</th>\n",
              "      <th>Forma Filiação</th>\n",
              "      <th>Qt SM RMI</th>\n",
              "    </tr>\n",
              "  </thead>\n",
              "  <tbody>\n",
              "    <tr>\n",
              "      <th>0</th>\n",
              "      <td>202201</td>\n",
              "      <td>Auxílio Doenca Previdenciário</td>\n",
              "      <td>K40   Hernia Inguinal</td>\n",
              "      <td>Revisao Administrativa</td>\n",
              "      <td>1970-05-23</td>\n",
              "      <td>Masculino</td>\n",
              "      <td>Urbano</td>\n",
              "      <td>Calculo na Dib sem Fator</td>\n",
              "      <td>Arapiraca</td>\n",
              "      <td>AL</td>\n",
              "      <td>Desempregado</td>\n",
              "      <td>1.183</td>\n",
              "    </tr>\n",
              "    <tr>\n",
              "      <th>1</th>\n",
              "      <td>202201</td>\n",
              "      <td>Auxílio Doenca Previdenciário</td>\n",
              "      <td>I25.9 Doenc Isquemica Cronica do Coracao Ne</td>\n",
              "      <td>Concessao Normal</td>\n",
              "      <td>1962-08-31</td>\n",
              "      <td>Masculino</td>\n",
              "      <td>Rural</td>\n",
              "      <td>Rmi Informada/Salã¡Rio M</td>\n",
              "      <td>Batalha</td>\n",
              "      <td>AL</td>\n",
              "      <td>Segurado Especial</td>\n",
              "      <td>1.000</td>\n",
              "    </tr>\n",
              "  </tbody>\n",
              "</table>\n",
              "</div>\n",
              "      <button class=\"colab-df-convert\" onclick=\"convertToInteractive('df-a619d6c0-9e4f-424e-b287-b1c6c1733ab2')\"\n",
              "              title=\"Convert this dataframe to an interactive table.\"\n",
              "              style=\"display:none;\">\n",
              "        \n",
              "  <svg xmlns=\"http://www.w3.org/2000/svg\" height=\"24px\"viewBox=\"0 0 24 24\"\n",
              "       width=\"24px\">\n",
              "    <path d=\"M0 0h24v24H0V0z\" fill=\"none\"/>\n",
              "    <path d=\"M18.56 5.44l.94 2.06.94-2.06 2.06-.94-2.06-.94-.94-2.06-.94 2.06-2.06.94zm-11 1L8.5 8.5l.94-2.06 2.06-.94-2.06-.94L8.5 2.5l-.94 2.06-2.06.94zm10 10l.94 2.06.94-2.06 2.06-.94-2.06-.94-.94-2.06-.94 2.06-2.06.94z\"/><path d=\"M17.41 7.96l-1.37-1.37c-.4-.4-.92-.59-1.43-.59-.52 0-1.04.2-1.43.59L10.3 9.45l-7.72 7.72c-.78.78-.78 2.05 0 2.83L4 21.41c.39.39.9.59 1.41.59.51 0 1.02-.2 1.41-.59l7.78-7.78 2.81-2.81c.8-.78.8-2.07 0-2.86zM5.41 20L4 18.59l7.72-7.72 1.47 1.35L5.41 20z\"/>\n",
              "  </svg>\n",
              "      </button>\n",
              "      \n",
              "  <style>\n",
              "    .colab-df-container {\n",
              "      display:flex;\n",
              "      flex-wrap:wrap;\n",
              "      gap: 12px;\n",
              "    }\n",
              "\n",
              "    .colab-df-convert {\n",
              "      background-color: #E8F0FE;\n",
              "      border: none;\n",
              "      border-radius: 50%;\n",
              "      cursor: pointer;\n",
              "      display: none;\n",
              "      fill: #1967D2;\n",
              "      height: 32px;\n",
              "      padding: 0 0 0 0;\n",
              "      width: 32px;\n",
              "    }\n",
              "\n",
              "    .colab-df-convert:hover {\n",
              "      background-color: #E2EBFA;\n",
              "      box-shadow: 0px 1px 2px rgba(60, 64, 67, 0.3), 0px 1px 3px 1px rgba(60, 64, 67, 0.15);\n",
              "      fill: #174EA6;\n",
              "    }\n",
              "\n",
              "    [theme=dark] .colab-df-convert {\n",
              "      background-color: #3B4455;\n",
              "      fill: #D2E3FC;\n",
              "    }\n",
              "\n",
              "    [theme=dark] .colab-df-convert:hover {\n",
              "      background-color: #434B5C;\n",
              "      box-shadow: 0px 1px 3px 1px rgba(0, 0, 0, 0.15);\n",
              "      filter: drop-shadow(0px 1px 2px rgba(0, 0, 0, 0.3));\n",
              "      fill: #FFFFFF;\n",
              "    }\n",
              "  </style>\n",
              "\n",
              "      <script>\n",
              "        const buttonEl =\n",
              "          document.querySelector('#df-a619d6c0-9e4f-424e-b287-b1c6c1733ab2 button.colab-df-convert');\n",
              "        buttonEl.style.display =\n",
              "          google.colab.kernel.accessAllowed ? 'block' : 'none';\n",
              "\n",
              "        async function convertToInteractive(key) {\n",
              "          const element = document.querySelector('#df-a619d6c0-9e4f-424e-b287-b1c6c1733ab2');\n",
              "          const dataTable =\n",
              "            await google.colab.kernel.invokeFunction('convertToInteractive',\n",
              "                                                     [key], {});\n",
              "          if (!dataTable) return;\n",
              "\n",
              "          const docLinkHtml = 'Like what you see? Visit the ' +\n",
              "            '<a target=\"_blank\" href=https://colab.research.google.com/notebooks/data_table.ipynb>data table notebook</a>'\n",
              "            + ' to learn more about interactive tables.';\n",
              "          element.innerHTML = '';\n",
              "          dataTable['output_type'] = 'display_data';\n",
              "          await google.colab.output.renderOutput(dataTable, element);\n",
              "          const docLink = document.createElement('div');\n",
              "          docLink.innerHTML = docLinkHtml;\n",
              "          element.appendChild(docLink);\n",
              "        }\n",
              "      </script>\n",
              "    </div>\n",
              "  </div>\n",
              "  "
            ]
          },
          "metadata": {}
        },
        {
          "output_type": "display_data",
          "data": {
            "text/plain": [
              "   Competência concessão                                        Espécie  \\\n",
              "0                 202204  Auxílio Doenca Previdenciário                   \n",
              "1                 202204  Auxílio Doenca Previdenciário                   \n",
              "\n",
              "                                             CID          Despacho  \\\n",
              "0  T92.8 Sequelas de Outr Traum Espec do Membro   Concessao Normal   \n",
              "1  S52.2 Frat da Diafise do Cubito                Concessao Normal   \n",
              "\n",
              "  Dt Nascimento          Sexo. Clientela           Tipo de Cálculo  \\\n",
              "0    1968-02-08  Feminino       Urbano    Calculo na Dib sem Fator   \n",
              "1    1998-01-15  Masculino      Urbano    Calculo na Dib sem Fator   \n",
              "\n",
              "                        Mun. Resid. Estado       Forma Filiação  Qt SM RMI  \n",
              "0  Maceió                               AL  Doméstico                1.000  \n",
              "1  Maceió                               AL  Desempregado             1.305  "
            ],
            "text/html": [
              "\n",
              "  <div id=\"df-723efa96-94a8-4acd-8d98-408bff25605c\">\n",
              "    <div class=\"colab-df-container\">\n",
              "      <div>\n",
              "<style scoped>\n",
              "    .dataframe tbody tr th:only-of-type {\n",
              "        vertical-align: middle;\n",
              "    }\n",
              "\n",
              "    .dataframe tbody tr th {\n",
              "        vertical-align: top;\n",
              "    }\n",
              "\n",
              "    .dataframe thead th {\n",
              "        text-align: right;\n",
              "    }\n",
              "</style>\n",
              "<table border=\"1\" class=\"dataframe\">\n",
              "  <thead>\n",
              "    <tr style=\"text-align: right;\">\n",
              "      <th></th>\n",
              "      <th>Competência concessão</th>\n",
              "      <th>Espécie</th>\n",
              "      <th>CID</th>\n",
              "      <th>Despacho</th>\n",
              "      <th>Dt Nascimento</th>\n",
              "      <th>Sexo.</th>\n",
              "      <th>Clientela</th>\n",
              "      <th>Tipo de Cálculo</th>\n",
              "      <th>Mun. Resid.</th>\n",
              "      <th>Estado</th>\n",
              "      <th>Forma Filiação</th>\n",
              "      <th>Qt SM RMI</th>\n",
              "    </tr>\n",
              "  </thead>\n",
              "  <tbody>\n",
              "    <tr>\n",
              "      <th>0</th>\n",
              "      <td>202204</td>\n",
              "      <td>Auxílio Doenca Previdenciário</td>\n",
              "      <td>T92.8 Sequelas de Outr Traum Espec do Membro</td>\n",
              "      <td>Concessao Normal</td>\n",
              "      <td>1968-02-08</td>\n",
              "      <td>Feminino</td>\n",
              "      <td>Urbano</td>\n",
              "      <td>Calculo na Dib sem Fator</td>\n",
              "      <td>Maceió</td>\n",
              "      <td>AL</td>\n",
              "      <td>Doméstico</td>\n",
              "      <td>1.000</td>\n",
              "    </tr>\n",
              "    <tr>\n",
              "      <th>1</th>\n",
              "      <td>202204</td>\n",
              "      <td>Auxílio Doenca Previdenciário</td>\n",
              "      <td>S52.2 Frat da Diafise do Cubito</td>\n",
              "      <td>Concessao Normal</td>\n",
              "      <td>1998-01-15</td>\n",
              "      <td>Masculino</td>\n",
              "      <td>Urbano</td>\n",
              "      <td>Calculo na Dib sem Fator</td>\n",
              "      <td>Maceió</td>\n",
              "      <td>AL</td>\n",
              "      <td>Desempregado</td>\n",
              "      <td>1.305</td>\n",
              "    </tr>\n",
              "  </tbody>\n",
              "</table>\n",
              "</div>\n",
              "      <button class=\"colab-df-convert\" onclick=\"convertToInteractive('df-723efa96-94a8-4acd-8d98-408bff25605c')\"\n",
              "              title=\"Convert this dataframe to an interactive table.\"\n",
              "              style=\"display:none;\">\n",
              "        \n",
              "  <svg xmlns=\"http://www.w3.org/2000/svg\" height=\"24px\"viewBox=\"0 0 24 24\"\n",
              "       width=\"24px\">\n",
              "    <path d=\"M0 0h24v24H0V0z\" fill=\"none\"/>\n",
              "    <path d=\"M18.56 5.44l.94 2.06.94-2.06 2.06-.94-2.06-.94-.94-2.06-.94 2.06-2.06.94zm-11 1L8.5 8.5l.94-2.06 2.06-.94-2.06-.94L8.5 2.5l-.94 2.06-2.06.94zm10 10l.94 2.06.94-2.06 2.06-.94-2.06-.94-.94-2.06-.94 2.06-2.06.94z\"/><path d=\"M17.41 7.96l-1.37-1.37c-.4-.4-.92-.59-1.43-.59-.52 0-1.04.2-1.43.59L10.3 9.45l-7.72 7.72c-.78.78-.78 2.05 0 2.83L4 21.41c.39.39.9.59 1.41.59.51 0 1.02-.2 1.41-.59l7.78-7.78 2.81-2.81c.8-.78.8-2.07 0-2.86zM5.41 20L4 18.59l7.72-7.72 1.47 1.35L5.41 20z\"/>\n",
              "  </svg>\n",
              "      </button>\n",
              "      \n",
              "  <style>\n",
              "    .colab-df-container {\n",
              "      display:flex;\n",
              "      flex-wrap:wrap;\n",
              "      gap: 12px;\n",
              "    }\n",
              "\n",
              "    .colab-df-convert {\n",
              "      background-color: #E8F0FE;\n",
              "      border: none;\n",
              "      border-radius: 50%;\n",
              "      cursor: pointer;\n",
              "      display: none;\n",
              "      fill: #1967D2;\n",
              "      height: 32px;\n",
              "      padding: 0 0 0 0;\n",
              "      width: 32px;\n",
              "    }\n",
              "\n",
              "    .colab-df-convert:hover {\n",
              "      background-color: #E2EBFA;\n",
              "      box-shadow: 0px 1px 2px rgba(60, 64, 67, 0.3), 0px 1px 3px 1px rgba(60, 64, 67, 0.15);\n",
              "      fill: #174EA6;\n",
              "    }\n",
              "\n",
              "    [theme=dark] .colab-df-convert {\n",
              "      background-color: #3B4455;\n",
              "      fill: #D2E3FC;\n",
              "    }\n",
              "\n",
              "    [theme=dark] .colab-df-convert:hover {\n",
              "      background-color: #434B5C;\n",
              "      box-shadow: 0px 1px 3px 1px rgba(0, 0, 0, 0.15);\n",
              "      filter: drop-shadow(0px 1px 2px rgba(0, 0, 0, 0.3));\n",
              "      fill: #FFFFFF;\n",
              "    }\n",
              "  </style>\n",
              "\n",
              "      <script>\n",
              "        const buttonEl =\n",
              "          document.querySelector('#df-723efa96-94a8-4acd-8d98-408bff25605c button.colab-df-convert');\n",
              "        buttonEl.style.display =\n",
              "          google.colab.kernel.accessAllowed ? 'block' : 'none';\n",
              "\n",
              "        async function convertToInteractive(key) {\n",
              "          const element = document.querySelector('#df-723efa96-94a8-4acd-8d98-408bff25605c');\n",
              "          const dataTable =\n",
              "            await google.colab.kernel.invokeFunction('convertToInteractive',\n",
              "                                                     [key], {});\n",
              "          if (!dataTable) return;\n",
              "\n",
              "          const docLinkHtml = 'Like what you see? Visit the ' +\n",
              "            '<a target=\"_blank\" href=https://colab.research.google.com/notebooks/data_table.ipynb>data table notebook</a>'\n",
              "            + ' to learn more about interactive tables.';\n",
              "          element.innerHTML = '';\n",
              "          dataTable['output_type'] = 'display_data';\n",
              "          await google.colab.output.renderOutput(dataTable, element);\n",
              "          const docLink = document.createElement('div');\n",
              "          docLink.innerHTML = docLinkHtml;\n",
              "          element.appendChild(docLink);\n",
              "        }\n",
              "      </script>\n",
              "    </div>\n",
              "  </div>\n",
              "  "
            ]
          },
          "metadata": {}
        },
        {
          "output_type": "display_data",
          "data": {
            "text/plain": [
              "   Competência concessão                                        Espécie  \\\n",
              "0                 202207  Auxílio Doenca Previdenciário                   \n",
              "1                 202207  Auxílio Doenca Previdenciário                   \n",
              "\n",
              "                                             CID          Despacho  \\\n",
              "0  S42.2 Frat da Extremidade Super do Umero       Concessao Normal   \n",
              "1  T93.1 Sequelas de Frat do Femur                Concessao Normal   \n",
              "\n",
              "  Dt Nascimento          Sexo. Clientela           Tipo de Cálculo  \\\n",
              "0    2000-12-30  Masculino      Urbano    Calculo na Dib sem Fator   \n",
              "1    1974-08-26  Masculino      Urbano    Calculo na Dib sem Fator   \n",
              "\n",
              "                        Mun. Resid. Estado       Forma Filiação  Qt SM RMI  \n",
              "0  Arapiraca                            AL  Autônomo                   1.0  \n",
              "1  Delmiro Gouveia                      AL  Desempregado               1.0  "
            ],
            "text/html": [
              "\n",
              "  <div id=\"df-f831350f-c24b-4ed8-b445-6ec3040d5ea7\">\n",
              "    <div class=\"colab-df-container\">\n",
              "      <div>\n",
              "<style scoped>\n",
              "    .dataframe tbody tr th:only-of-type {\n",
              "        vertical-align: middle;\n",
              "    }\n",
              "\n",
              "    .dataframe tbody tr th {\n",
              "        vertical-align: top;\n",
              "    }\n",
              "\n",
              "    .dataframe thead th {\n",
              "        text-align: right;\n",
              "    }\n",
              "</style>\n",
              "<table border=\"1\" class=\"dataframe\">\n",
              "  <thead>\n",
              "    <tr style=\"text-align: right;\">\n",
              "      <th></th>\n",
              "      <th>Competência concessão</th>\n",
              "      <th>Espécie</th>\n",
              "      <th>CID</th>\n",
              "      <th>Despacho</th>\n",
              "      <th>Dt Nascimento</th>\n",
              "      <th>Sexo.</th>\n",
              "      <th>Clientela</th>\n",
              "      <th>Tipo de Cálculo</th>\n",
              "      <th>Mun. Resid.</th>\n",
              "      <th>Estado</th>\n",
              "      <th>Forma Filiação</th>\n",
              "      <th>Qt SM RMI</th>\n",
              "    </tr>\n",
              "  </thead>\n",
              "  <tbody>\n",
              "    <tr>\n",
              "      <th>0</th>\n",
              "      <td>202207</td>\n",
              "      <td>Auxílio Doenca Previdenciário</td>\n",
              "      <td>S42.2 Frat da Extremidade Super do Umero</td>\n",
              "      <td>Concessao Normal</td>\n",
              "      <td>2000-12-30</td>\n",
              "      <td>Masculino</td>\n",
              "      <td>Urbano</td>\n",
              "      <td>Calculo na Dib sem Fator</td>\n",
              "      <td>Arapiraca</td>\n",
              "      <td>AL</td>\n",
              "      <td>Autônomo</td>\n",
              "      <td>1.0</td>\n",
              "    </tr>\n",
              "    <tr>\n",
              "      <th>1</th>\n",
              "      <td>202207</td>\n",
              "      <td>Auxílio Doenca Previdenciário</td>\n",
              "      <td>T93.1 Sequelas de Frat do Femur</td>\n",
              "      <td>Concessao Normal</td>\n",
              "      <td>1974-08-26</td>\n",
              "      <td>Masculino</td>\n",
              "      <td>Urbano</td>\n",
              "      <td>Calculo na Dib sem Fator</td>\n",
              "      <td>Delmiro Gouveia</td>\n",
              "      <td>AL</td>\n",
              "      <td>Desempregado</td>\n",
              "      <td>1.0</td>\n",
              "    </tr>\n",
              "  </tbody>\n",
              "</table>\n",
              "</div>\n",
              "      <button class=\"colab-df-convert\" onclick=\"convertToInteractive('df-f831350f-c24b-4ed8-b445-6ec3040d5ea7')\"\n",
              "              title=\"Convert this dataframe to an interactive table.\"\n",
              "              style=\"display:none;\">\n",
              "        \n",
              "  <svg xmlns=\"http://www.w3.org/2000/svg\" height=\"24px\"viewBox=\"0 0 24 24\"\n",
              "       width=\"24px\">\n",
              "    <path d=\"M0 0h24v24H0V0z\" fill=\"none\"/>\n",
              "    <path d=\"M18.56 5.44l.94 2.06.94-2.06 2.06-.94-2.06-.94-.94-2.06-.94 2.06-2.06.94zm-11 1L8.5 8.5l.94-2.06 2.06-.94-2.06-.94L8.5 2.5l-.94 2.06-2.06.94zm10 10l.94 2.06.94-2.06 2.06-.94-2.06-.94-.94-2.06-.94 2.06-2.06.94z\"/><path d=\"M17.41 7.96l-1.37-1.37c-.4-.4-.92-.59-1.43-.59-.52 0-1.04.2-1.43.59L10.3 9.45l-7.72 7.72c-.78.78-.78 2.05 0 2.83L4 21.41c.39.39.9.59 1.41.59.51 0 1.02-.2 1.41-.59l7.78-7.78 2.81-2.81c.8-.78.8-2.07 0-2.86zM5.41 20L4 18.59l7.72-7.72 1.47 1.35L5.41 20z\"/>\n",
              "  </svg>\n",
              "      </button>\n",
              "      \n",
              "  <style>\n",
              "    .colab-df-container {\n",
              "      display:flex;\n",
              "      flex-wrap:wrap;\n",
              "      gap: 12px;\n",
              "    }\n",
              "\n",
              "    .colab-df-convert {\n",
              "      background-color: #E8F0FE;\n",
              "      border: none;\n",
              "      border-radius: 50%;\n",
              "      cursor: pointer;\n",
              "      display: none;\n",
              "      fill: #1967D2;\n",
              "      height: 32px;\n",
              "      padding: 0 0 0 0;\n",
              "      width: 32px;\n",
              "    }\n",
              "\n",
              "    .colab-df-convert:hover {\n",
              "      background-color: #E2EBFA;\n",
              "      box-shadow: 0px 1px 2px rgba(60, 64, 67, 0.3), 0px 1px 3px 1px rgba(60, 64, 67, 0.15);\n",
              "      fill: #174EA6;\n",
              "    }\n",
              "\n",
              "    [theme=dark] .colab-df-convert {\n",
              "      background-color: #3B4455;\n",
              "      fill: #D2E3FC;\n",
              "    }\n",
              "\n",
              "    [theme=dark] .colab-df-convert:hover {\n",
              "      background-color: #434B5C;\n",
              "      box-shadow: 0px 1px 3px 1px rgba(0, 0, 0, 0.15);\n",
              "      filter: drop-shadow(0px 1px 2px rgba(0, 0, 0, 0.3));\n",
              "      fill: #FFFFFF;\n",
              "    }\n",
              "  </style>\n",
              "\n",
              "      <script>\n",
              "        const buttonEl =\n",
              "          document.querySelector('#df-f831350f-c24b-4ed8-b445-6ec3040d5ea7 button.colab-df-convert');\n",
              "        buttonEl.style.display =\n",
              "          google.colab.kernel.accessAllowed ? 'block' : 'none';\n",
              "\n",
              "        async function convertToInteractive(key) {\n",
              "          const element = document.querySelector('#df-f831350f-c24b-4ed8-b445-6ec3040d5ea7');\n",
              "          const dataTable =\n",
              "            await google.colab.kernel.invokeFunction('convertToInteractive',\n",
              "                                                     [key], {});\n",
              "          if (!dataTable) return;\n",
              "\n",
              "          const docLinkHtml = 'Like what you see? Visit the ' +\n",
              "            '<a target=\"_blank\" href=https://colab.research.google.com/notebooks/data_table.ipynb>data table notebook</a>'\n",
              "            + ' to learn more about interactive tables.';\n",
              "          element.innerHTML = '';\n",
              "          dataTable['output_type'] = 'display_data';\n",
              "          await google.colab.output.renderOutput(dataTable, element);\n",
              "          const docLink = document.createElement('div');\n",
              "          docLink.innerHTML = docLinkHtml;\n",
              "          element.appendChild(docLink);\n",
              "        }\n",
              "      </script>\n",
              "    </div>\n",
              "  </div>\n",
              "  "
            ]
          },
          "metadata": {}
        },
        {
          "output_type": "display_data",
          "data": {
            "text/plain": [
              "   Competência concessão                                        Espécie  \\\n",
              "0                 202210  Auxílio Doenca Previdenciário                   \n",
              "1                 202210  Auxílio Doenca Previdenciário                   \n",
              "\n",
              "                                             CID                Despacho  \\\n",
              "0  S92.0 Frat do Calcaneo                               Concessao Normal   \n",
              "1  N20   Calculose do Rim e do Ureter             Revisao Administrativa   \n",
              "\n",
              "  Dt Nascimento          Sexo. Clientela           Tipo de Cálculo  \\\n",
              "0    1972-11-14  Feminino       Urbano    Calculo na Dib sem Fator   \n",
              "1    1972-04-20  Feminino       Urbano    Calculo na Dib sem Fator   \n",
              "\n",
              "                        Mun. Resid. Estado       Forma Filiação  Qt SM RMI  \n",
              "0  São Paulo                            SP  Desempregado               1.0  \n",
              "1  Arapiraca                            AL  Empregado                  1.0  "
            ],
            "text/html": [
              "\n",
              "  <div id=\"df-9075c450-f7df-4f34-9e0a-38280907d96d\">\n",
              "    <div class=\"colab-df-container\">\n",
              "      <div>\n",
              "<style scoped>\n",
              "    .dataframe tbody tr th:only-of-type {\n",
              "        vertical-align: middle;\n",
              "    }\n",
              "\n",
              "    .dataframe tbody tr th {\n",
              "        vertical-align: top;\n",
              "    }\n",
              "\n",
              "    .dataframe thead th {\n",
              "        text-align: right;\n",
              "    }\n",
              "</style>\n",
              "<table border=\"1\" class=\"dataframe\">\n",
              "  <thead>\n",
              "    <tr style=\"text-align: right;\">\n",
              "      <th></th>\n",
              "      <th>Competência concessão</th>\n",
              "      <th>Espécie</th>\n",
              "      <th>CID</th>\n",
              "      <th>Despacho</th>\n",
              "      <th>Dt Nascimento</th>\n",
              "      <th>Sexo.</th>\n",
              "      <th>Clientela</th>\n",
              "      <th>Tipo de Cálculo</th>\n",
              "      <th>Mun. Resid.</th>\n",
              "      <th>Estado</th>\n",
              "      <th>Forma Filiação</th>\n",
              "      <th>Qt SM RMI</th>\n",
              "    </tr>\n",
              "  </thead>\n",
              "  <tbody>\n",
              "    <tr>\n",
              "      <th>0</th>\n",
              "      <td>202210</td>\n",
              "      <td>Auxílio Doenca Previdenciário</td>\n",
              "      <td>S92.0 Frat do Calcaneo</td>\n",
              "      <td>Concessao Normal</td>\n",
              "      <td>1972-11-14</td>\n",
              "      <td>Feminino</td>\n",
              "      <td>Urbano</td>\n",
              "      <td>Calculo na Dib sem Fator</td>\n",
              "      <td>São Paulo</td>\n",
              "      <td>SP</td>\n",
              "      <td>Desempregado</td>\n",
              "      <td>1.0</td>\n",
              "    </tr>\n",
              "    <tr>\n",
              "      <th>1</th>\n",
              "      <td>202210</td>\n",
              "      <td>Auxílio Doenca Previdenciário</td>\n",
              "      <td>N20   Calculose do Rim e do Ureter</td>\n",
              "      <td>Revisao Administrativa</td>\n",
              "      <td>1972-04-20</td>\n",
              "      <td>Feminino</td>\n",
              "      <td>Urbano</td>\n",
              "      <td>Calculo na Dib sem Fator</td>\n",
              "      <td>Arapiraca</td>\n",
              "      <td>AL</td>\n",
              "      <td>Empregado</td>\n",
              "      <td>1.0</td>\n",
              "    </tr>\n",
              "  </tbody>\n",
              "</table>\n",
              "</div>\n",
              "      <button class=\"colab-df-convert\" onclick=\"convertToInteractive('df-9075c450-f7df-4f34-9e0a-38280907d96d')\"\n",
              "              title=\"Convert this dataframe to an interactive table.\"\n",
              "              style=\"display:none;\">\n",
              "        \n",
              "  <svg xmlns=\"http://www.w3.org/2000/svg\" height=\"24px\"viewBox=\"0 0 24 24\"\n",
              "       width=\"24px\">\n",
              "    <path d=\"M0 0h24v24H0V0z\" fill=\"none\"/>\n",
              "    <path d=\"M18.56 5.44l.94 2.06.94-2.06 2.06-.94-2.06-.94-.94-2.06-.94 2.06-2.06.94zm-11 1L8.5 8.5l.94-2.06 2.06-.94-2.06-.94L8.5 2.5l-.94 2.06-2.06.94zm10 10l.94 2.06.94-2.06 2.06-.94-2.06-.94-.94-2.06-.94 2.06-2.06.94z\"/><path d=\"M17.41 7.96l-1.37-1.37c-.4-.4-.92-.59-1.43-.59-.52 0-1.04.2-1.43.59L10.3 9.45l-7.72 7.72c-.78.78-.78 2.05 0 2.83L4 21.41c.39.39.9.59 1.41.59.51 0 1.02-.2 1.41-.59l7.78-7.78 2.81-2.81c.8-.78.8-2.07 0-2.86zM5.41 20L4 18.59l7.72-7.72 1.47 1.35L5.41 20z\"/>\n",
              "  </svg>\n",
              "      </button>\n",
              "      \n",
              "  <style>\n",
              "    .colab-df-container {\n",
              "      display:flex;\n",
              "      flex-wrap:wrap;\n",
              "      gap: 12px;\n",
              "    }\n",
              "\n",
              "    .colab-df-convert {\n",
              "      background-color: #E8F0FE;\n",
              "      border: none;\n",
              "      border-radius: 50%;\n",
              "      cursor: pointer;\n",
              "      display: none;\n",
              "      fill: #1967D2;\n",
              "      height: 32px;\n",
              "      padding: 0 0 0 0;\n",
              "      width: 32px;\n",
              "    }\n",
              "\n",
              "    .colab-df-convert:hover {\n",
              "      background-color: #E2EBFA;\n",
              "      box-shadow: 0px 1px 2px rgba(60, 64, 67, 0.3), 0px 1px 3px 1px rgba(60, 64, 67, 0.15);\n",
              "      fill: #174EA6;\n",
              "    }\n",
              "\n",
              "    [theme=dark] .colab-df-convert {\n",
              "      background-color: #3B4455;\n",
              "      fill: #D2E3FC;\n",
              "    }\n",
              "\n",
              "    [theme=dark] .colab-df-convert:hover {\n",
              "      background-color: #434B5C;\n",
              "      box-shadow: 0px 1px 3px 1px rgba(0, 0, 0, 0.15);\n",
              "      filter: drop-shadow(0px 1px 2px rgba(0, 0, 0, 0.3));\n",
              "      fill: #FFFFFF;\n",
              "    }\n",
              "  </style>\n",
              "\n",
              "      <script>\n",
              "        const buttonEl =\n",
              "          document.querySelector('#df-9075c450-f7df-4f34-9e0a-38280907d96d button.colab-df-convert');\n",
              "        buttonEl.style.display =\n",
              "          google.colab.kernel.accessAllowed ? 'block' : 'none';\n",
              "\n",
              "        async function convertToInteractive(key) {\n",
              "          const element = document.querySelector('#df-9075c450-f7df-4f34-9e0a-38280907d96d');\n",
              "          const dataTable =\n",
              "            await google.colab.kernel.invokeFunction('convertToInteractive',\n",
              "                                                     [key], {});\n",
              "          if (!dataTable) return;\n",
              "\n",
              "          const docLinkHtml = 'Like what you see? Visit the ' +\n",
              "            '<a target=\"_blank\" href=https://colab.research.google.com/notebooks/data_table.ipynb>data table notebook</a>'\n",
              "            + ' to learn more about interactive tables.';\n",
              "          element.innerHTML = '';\n",
              "          dataTable['output_type'] = 'display_data';\n",
              "          await google.colab.output.renderOutput(dataTable, element);\n",
              "          const docLink = document.createElement('div');\n",
              "          docLink.innerHTML = docLinkHtml;\n",
              "          element.appendChild(docLink);\n",
              "        }\n",
              "      </script>\n",
              "    </div>\n",
              "  </div>\n",
              "  "
            ]
          },
          "metadata": {}
        }
      ],
      "source": [
        "# Importação de pacotes\n",
        "import pandas as pd\n",
        "import numpy as np\n",
        "import matplotlib.pyplot as plt\n",
        "import seaborn as sns\n",
        "#from tqdm import tqdm\n",
        "#from google.colab import drive\n",
        "\n",
        "#Carregando planilhas do Excel com os dados em dataframes\n",
        "df_ben1 =  pd.read_excel('https://github.com/brunolunarj/cienciadedados/blob/d3d94b0a5b2dd1a5aff4d85bf269c67390e23927/Con2022/CONC012022.xlsx?raw=true')\n",
        "#pbar = tqdm(4, position=0, leave=True)\n",
        "#pbar.update()\n",
        "df_ben2 =  pd.read_excel('https://github.com/brunolunarj/cienciadedados/blob/d3d94b0a5b2dd1a5aff4d85bf269c67390e23927/Con2022/CONC022022.xlsx?raw=true')\n",
        "df_ben3 =  pd.read_excel('https://github.com/brunolunarj/cienciadedados/blob/d3d94b0a5b2dd1a5aff4d85bf269c67390e23927/Con2022/CONC032022.xlsx?raw=true')\n",
        "df_ben4 =  pd.read_excel('https://github.com/brunolunarj/cienciadedados/blob/d3d94b0a5b2dd1a5aff4d85bf269c67390e23927/Con2022/CONC042022.xlsx?raw=true')\n",
        "df_ben4.shape\n",
        "display(df_ben1[:2])\n",
        "display(df_ben2[:2])\n",
        "display(df_ben3[:2])\n",
        "display(df_ben4[:2])"
      ]
    },
    {
      "cell_type": "markdown",
      "source": [
        "### 2.2 - JUNTANDO AS PLANILHAS\n"
      ],
      "metadata": {
        "id": "eUBdPHqUydVe"
      }
    },
    {
      "cell_type": "code",
      "source": [
        "#Criando um novo Dataframe e juntando os DF anteriores\n",
        "df_ben = pd.concat([df_ben1, df_ben2, df_ben3, df_ben4], ignore_index=True)\n",
        "df_ben.head() #df_ben[:5]"
      ],
      "metadata": {
        "colab": {
          "base_uri": "https://localhost:8080/",
          "height": 354
        },
        "id": "0QRlhbVKwgZX",
        "outputId": "076eb692-9e28-49ea-96b3-e78f053ffd09"
      },
      "execution_count": 35,
      "outputs": [
        {
          "output_type": "execute_result",
          "data": {
            "text/plain": [
              "   Competência concessão                                        Espécie  \\\n",
              "0                 202201  Auxílio Doenca Previdenciário                   \n",
              "1                 202201  Auxílio Doenca Previdenciário                   \n",
              "2                 202201  Auxílio Doenca Previdenciário                   \n",
              "3                 202201  Auxílio Doenca Previdenciário                   \n",
              "4                 202201  Auxílio Doenca Previdenciário                   \n",
              "\n",
              "                                             CID                Despacho  \\\n",
              "0  K40   Hernia Inguinal                          Revisao Administrativa   \n",
              "1  I25.9 Doenc Isquemica Cronica do Coracao Ne          Concessao Normal   \n",
              "2  S92.4 Frat do Halux                                  Concessao Normal   \n",
              "3  B34.2 Infecc p/Coronavirus Ne                        Concessao Normal   \n",
              "4  I83.2 Varizes Membros Infer c/Ulcera e Inflam  Revisao Administrativa   \n",
              "\n",
              "  Dt Nascimento          Sexo. Clientela           Tipo de Cálculo  \\\n",
              "0    1970-05-23  Masculino      Urbano    Calculo na Dib sem Fator   \n",
              "1    1962-08-31  Masculino      Rural     Rmi Informada/Salã¡Rio M   \n",
              "2    1997-10-15  Masculino      Urbano    Rmi Informada/Salã¡Rio M   \n",
              "3    1999-10-15  Masculino      Urbano    Calculo na Dib sem Fator   \n",
              "4    1975-04-04  Masculino      Urbano    Calculo na Dib sem Fator   \n",
              "\n",
              "                        Mun. Resid. Estado       Forma Filiação  Qt SM RMI  \n",
              "0  Arapiraca                            AL  Desempregado             1.183  \n",
              "1  Batalha                              AL  Segurado Especial        1.000  \n",
              "2  Arapiraca                            AL  Empregado                1.000  \n",
              "3  Arapiraca                            AL  Desempregado             1.000  \n",
              "4  Arapiraca                            AL  Autônomo                 1.000  "
            ],
            "text/html": [
              "\n",
              "  <div id=\"df-b3dd83ac-a278-410a-9384-9ac2033995f3\">\n",
              "    <div class=\"colab-df-container\">\n",
              "      <div>\n",
              "<style scoped>\n",
              "    .dataframe tbody tr th:only-of-type {\n",
              "        vertical-align: middle;\n",
              "    }\n",
              "\n",
              "    .dataframe tbody tr th {\n",
              "        vertical-align: top;\n",
              "    }\n",
              "\n",
              "    .dataframe thead th {\n",
              "        text-align: right;\n",
              "    }\n",
              "</style>\n",
              "<table border=\"1\" class=\"dataframe\">\n",
              "  <thead>\n",
              "    <tr style=\"text-align: right;\">\n",
              "      <th></th>\n",
              "      <th>Competência concessão</th>\n",
              "      <th>Espécie</th>\n",
              "      <th>CID</th>\n",
              "      <th>Despacho</th>\n",
              "      <th>Dt Nascimento</th>\n",
              "      <th>Sexo.</th>\n",
              "      <th>Clientela</th>\n",
              "      <th>Tipo de Cálculo</th>\n",
              "      <th>Mun. Resid.</th>\n",
              "      <th>Estado</th>\n",
              "      <th>Forma Filiação</th>\n",
              "      <th>Qt SM RMI</th>\n",
              "    </tr>\n",
              "  </thead>\n",
              "  <tbody>\n",
              "    <tr>\n",
              "      <th>0</th>\n",
              "      <td>202201</td>\n",
              "      <td>Auxílio Doenca Previdenciário</td>\n",
              "      <td>K40   Hernia Inguinal</td>\n",
              "      <td>Revisao Administrativa</td>\n",
              "      <td>1970-05-23</td>\n",
              "      <td>Masculino</td>\n",
              "      <td>Urbano</td>\n",
              "      <td>Calculo na Dib sem Fator</td>\n",
              "      <td>Arapiraca</td>\n",
              "      <td>AL</td>\n",
              "      <td>Desempregado</td>\n",
              "      <td>1.183</td>\n",
              "    </tr>\n",
              "    <tr>\n",
              "      <th>1</th>\n",
              "      <td>202201</td>\n",
              "      <td>Auxílio Doenca Previdenciário</td>\n",
              "      <td>I25.9 Doenc Isquemica Cronica do Coracao Ne</td>\n",
              "      <td>Concessao Normal</td>\n",
              "      <td>1962-08-31</td>\n",
              "      <td>Masculino</td>\n",
              "      <td>Rural</td>\n",
              "      <td>Rmi Informada/Salã¡Rio M</td>\n",
              "      <td>Batalha</td>\n",
              "      <td>AL</td>\n",
              "      <td>Segurado Especial</td>\n",
              "      <td>1.000</td>\n",
              "    </tr>\n",
              "    <tr>\n",
              "      <th>2</th>\n",
              "      <td>202201</td>\n",
              "      <td>Auxílio Doenca Previdenciário</td>\n",
              "      <td>S92.4 Frat do Halux</td>\n",
              "      <td>Concessao Normal</td>\n",
              "      <td>1997-10-15</td>\n",
              "      <td>Masculino</td>\n",
              "      <td>Urbano</td>\n",
              "      <td>Rmi Informada/Salã¡Rio M</td>\n",
              "      <td>Arapiraca</td>\n",
              "      <td>AL</td>\n",
              "      <td>Empregado</td>\n",
              "      <td>1.000</td>\n",
              "    </tr>\n",
              "    <tr>\n",
              "      <th>3</th>\n",
              "      <td>202201</td>\n",
              "      <td>Auxílio Doenca Previdenciário</td>\n",
              "      <td>B34.2 Infecc p/Coronavirus Ne</td>\n",
              "      <td>Concessao Normal</td>\n",
              "      <td>1999-10-15</td>\n",
              "      <td>Masculino</td>\n",
              "      <td>Urbano</td>\n",
              "      <td>Calculo na Dib sem Fator</td>\n",
              "      <td>Arapiraca</td>\n",
              "      <td>AL</td>\n",
              "      <td>Desempregado</td>\n",
              "      <td>1.000</td>\n",
              "    </tr>\n",
              "    <tr>\n",
              "      <th>4</th>\n",
              "      <td>202201</td>\n",
              "      <td>Auxílio Doenca Previdenciário</td>\n",
              "      <td>I83.2 Varizes Membros Infer c/Ulcera e Inflam</td>\n",
              "      <td>Revisao Administrativa</td>\n",
              "      <td>1975-04-04</td>\n",
              "      <td>Masculino</td>\n",
              "      <td>Urbano</td>\n",
              "      <td>Calculo na Dib sem Fator</td>\n",
              "      <td>Arapiraca</td>\n",
              "      <td>AL</td>\n",
              "      <td>Autônomo</td>\n",
              "      <td>1.000</td>\n",
              "    </tr>\n",
              "  </tbody>\n",
              "</table>\n",
              "</div>\n",
              "      <button class=\"colab-df-convert\" onclick=\"convertToInteractive('df-b3dd83ac-a278-410a-9384-9ac2033995f3')\"\n",
              "              title=\"Convert this dataframe to an interactive table.\"\n",
              "              style=\"display:none;\">\n",
              "        \n",
              "  <svg xmlns=\"http://www.w3.org/2000/svg\" height=\"24px\"viewBox=\"0 0 24 24\"\n",
              "       width=\"24px\">\n",
              "    <path d=\"M0 0h24v24H0V0z\" fill=\"none\"/>\n",
              "    <path d=\"M18.56 5.44l.94 2.06.94-2.06 2.06-.94-2.06-.94-.94-2.06-.94 2.06-2.06.94zm-11 1L8.5 8.5l.94-2.06 2.06-.94-2.06-.94L8.5 2.5l-.94 2.06-2.06.94zm10 10l.94 2.06.94-2.06 2.06-.94-2.06-.94-.94-2.06-.94 2.06-2.06.94z\"/><path d=\"M17.41 7.96l-1.37-1.37c-.4-.4-.92-.59-1.43-.59-.52 0-1.04.2-1.43.59L10.3 9.45l-7.72 7.72c-.78.78-.78 2.05 0 2.83L4 21.41c.39.39.9.59 1.41.59.51 0 1.02-.2 1.41-.59l7.78-7.78 2.81-2.81c.8-.78.8-2.07 0-2.86zM5.41 20L4 18.59l7.72-7.72 1.47 1.35L5.41 20z\"/>\n",
              "  </svg>\n",
              "      </button>\n",
              "      \n",
              "  <style>\n",
              "    .colab-df-container {\n",
              "      display:flex;\n",
              "      flex-wrap:wrap;\n",
              "      gap: 12px;\n",
              "    }\n",
              "\n",
              "    .colab-df-convert {\n",
              "      background-color: #E8F0FE;\n",
              "      border: none;\n",
              "      border-radius: 50%;\n",
              "      cursor: pointer;\n",
              "      display: none;\n",
              "      fill: #1967D2;\n",
              "      height: 32px;\n",
              "      padding: 0 0 0 0;\n",
              "      width: 32px;\n",
              "    }\n",
              "\n",
              "    .colab-df-convert:hover {\n",
              "      background-color: #E2EBFA;\n",
              "      box-shadow: 0px 1px 2px rgba(60, 64, 67, 0.3), 0px 1px 3px 1px rgba(60, 64, 67, 0.15);\n",
              "      fill: #174EA6;\n",
              "    }\n",
              "\n",
              "    [theme=dark] .colab-df-convert {\n",
              "      background-color: #3B4455;\n",
              "      fill: #D2E3FC;\n",
              "    }\n",
              "\n",
              "    [theme=dark] .colab-df-convert:hover {\n",
              "      background-color: #434B5C;\n",
              "      box-shadow: 0px 1px 3px 1px rgba(0, 0, 0, 0.15);\n",
              "      filter: drop-shadow(0px 1px 2px rgba(0, 0, 0, 0.3));\n",
              "      fill: #FFFFFF;\n",
              "    }\n",
              "  </style>\n",
              "\n",
              "      <script>\n",
              "        const buttonEl =\n",
              "          document.querySelector('#df-b3dd83ac-a278-410a-9384-9ac2033995f3 button.colab-df-convert');\n",
              "        buttonEl.style.display =\n",
              "          google.colab.kernel.accessAllowed ? 'block' : 'none';\n",
              "\n",
              "        async function convertToInteractive(key) {\n",
              "          const element = document.querySelector('#df-b3dd83ac-a278-410a-9384-9ac2033995f3');\n",
              "          const dataTable =\n",
              "            await google.colab.kernel.invokeFunction('convertToInteractive',\n",
              "                                                     [key], {});\n",
              "          if (!dataTable) return;\n",
              "\n",
              "          const docLinkHtml = 'Like what you see? Visit the ' +\n",
              "            '<a target=\"_blank\" href=https://colab.research.google.com/notebooks/data_table.ipynb>data table notebook</a>'\n",
              "            + ' to learn more about interactive tables.';\n",
              "          element.innerHTML = '';\n",
              "          dataTable['output_type'] = 'display_data';\n",
              "          await google.colab.output.renderOutput(dataTable, element);\n",
              "          const docLink = document.createElement('div');\n",
              "          docLink.innerHTML = docLinkHtml;\n",
              "          element.appendChild(docLink);\n",
              "        }\n",
              "      </script>\n",
              "    </div>\n",
              "  </div>\n",
              "  "
            ]
          },
          "metadata": {},
          "execution_count": 35
        }
      ]
    },
    {
      "cell_type": "markdown",
      "source": [
        "###2.3 - ANÁLISE INICIAL DOS DADOS\n"
      ],
      "metadata": {
        "id": "mBYYBB0CzBJH"
      }
    },
    {
      "cell_type": "code",
      "source": [
        "#Buscando as informações Básicas do DF: quantidade de linhas e colunas, os tipos de dados de cada coluna, etc.\n",
        "df_ben.info()"
      ],
      "metadata": {
        "colab": {
          "base_uri": "https://localhost:8080/"
        },
        "id": "5xodjYQ63tkd",
        "outputId": "b8ca3026-e50d-40e8-cd5b-c364e509da41"
      },
      "execution_count": 36,
      "outputs": [
        {
          "output_type": "stream",
          "name": "stdout",
          "text": [
            "<class 'pandas.core.frame.DataFrame'>\n",
            "RangeIndex: 1883139 entries, 0 to 1883138\n",
            "Data columns (total 12 columns):\n",
            " #   Column                 Dtype         \n",
            "---  ------                 -----         \n",
            " 0   Competência concessão  int64         \n",
            " 1   Espécie                object        \n",
            " 2   CID                    object        \n",
            " 3   Despacho               object        \n",
            " 4   Dt Nascimento          datetime64[ns]\n",
            " 5   Sexo.                  object        \n",
            " 6   Clientela              object        \n",
            " 7   Tipo de Cálculo        object        \n",
            " 8   Mun. Resid.            object        \n",
            " 9   Estado                 object        \n",
            " 10  Forma Filiação         object        \n",
            " 11  Qt SM RMI              float64       \n",
            "dtypes: datetime64[ns](1), float64(1), int64(1), object(9)\n",
            "memory usage: 172.4+ MB\n"
          ]
        }
      ]
    },
    {
      "cell_type": "code",
      "source": [
        "#Verificar todos os valores nulos do DF\n",
        "df_ben.isnull().sum()"
      ],
      "metadata": {
        "colab": {
          "base_uri": "https://localhost:8080/"
        },
        "id": "oB48l2dDAqKr",
        "outputId": "e0e2c456-0a8e-467a-c1ee-1a5fef75d329"
      },
      "execution_count": 37,
      "outputs": [
        {
          "output_type": "execute_result",
          "data": {
            "text/plain": [
              "Competência concessão     0\n",
              "Espécie                   0\n",
              "CID                       0\n",
              "Despacho                  0\n",
              "Dt Nascimento             0\n",
              "Sexo.                     0\n",
              "Clientela                 0\n",
              "Tipo de Cálculo           0\n",
              "Mun. Resid.              18\n",
              "Estado                    0\n",
              "Forma Filiação            0\n",
              "Qt SM RMI                 0\n",
              "dtype: int64"
            ]
          },
          "metadata": {},
          "execution_count": 37
        }
      ]
    },
    {
      "cell_type": "code",
      "source": [
        "#Verificar todos os valores NA do DF\n",
        "df_ben.isna().sum()"
      ],
      "metadata": {
        "colab": {
          "base_uri": "https://localhost:8080/"
        },
        "id": "8DnhVNJt17M_",
        "outputId": "cabf4b3d-ab9f-46aa-f60c-7b25a909e4f1"
      },
      "execution_count": 38,
      "outputs": [
        {
          "output_type": "execute_result",
          "data": {
            "text/plain": [
              "Competência concessão     0\n",
              "Espécie                   0\n",
              "CID                       0\n",
              "Despacho                  0\n",
              "Dt Nascimento             0\n",
              "Sexo.                     0\n",
              "Clientela                 0\n",
              "Tipo de Cálculo           0\n",
              "Mun. Resid.              18\n",
              "Estado                    0\n",
              "Forma Filiação            0\n",
              "Qt SM RMI                 0\n",
              "dtype: int64"
            ]
          },
          "metadata": {},
          "execution_count": 38
        }
      ]
    },
    {
      "cell_type": "code",
      "source": [
        "df_ben['Despacho'].unique()"
      ],
      "metadata": {
        "colab": {
          "base_uri": "https://localhost:8080/"
        },
        "id": "hCuVKuX13vej",
        "outputId": "4d6a4e77-d97c-40ef-e539-19153bb8fd16"
      },
      "execution_count": 39,
      "outputs": [
        {
          "output_type": "execute_result",
          "data": {
            "text/plain": [
              "array(['Revisao Administrativa', 'Concessao Normal', 'Acao Judicial',\n",
              "       'Revisão Médica', 'Recurso',\n",
              "       'Concessao com Diligencia (Rd ou Sp)     '], dtype=object)"
            ]
          },
          "metadata": {},
          "execution_count": 39
        }
      ]
    },
    {
      "cell_type": "code",
      "source": [
        "df_ben['Competência concessão'].unique()"
      ],
      "metadata": {
        "colab": {
          "base_uri": "https://localhost:8080/"
        },
        "id": "KjF1QNKFC1cv",
        "outputId": "3437ed56-76e5-495d-dc3a-9b317c829f80"
      },
      "execution_count": 40,
      "outputs": [
        {
          "output_type": "execute_result",
          "data": {
            "text/plain": [
              "array([202201, 202202, 202203, 202204, 202205, 202206, 202207, 202208,\n",
              "       202209, 202210, 202211, 202212])"
            ]
          },
          "metadata": {},
          "execution_count": 40
        }
      ]
    },
    {
      "cell_type": "markdown",
      "source": [
        "##3 - PRÉ-PROCESSAMENTO\n",
        "\n",
        "---\n",
        "\n"
      ],
      "metadata": {
        "id": "GuQI2IJm0u9S"
      }
    },
    {
      "cell_type": "markdown",
      "source": [
        "### 3.1 - LIMPEZA DE DADOS"
      ],
      "metadata": {
        "id": "qrVLhWbh0Tgs"
      }
    },
    {
      "cell_type": "code",
      "source": [
        "#Apagar coluna Tipo de Cálculo\n",
        "df_ben = df_ben.drop(columns=['Tipo de Cálculo'])\n",
        "df_ben.columns"
      ],
      "metadata": {
        "colab": {
          "base_uri": "https://localhost:8080/"
        },
        "id": "hO614nRnA4U-",
        "outputId": "917d16f2-7b15-41a7-9c18-a1bfc7898a57"
      },
      "execution_count": 41,
      "outputs": [
        {
          "output_type": "execute_result",
          "data": {
            "text/plain": [
              "Index(['Competência concessão', 'Espécie', 'CID', 'Despacho', 'Dt Nascimento',\n",
              "       'Sexo.', 'Clientela', 'Mun. Resid.', 'Estado', 'Forma Filiação',\n",
              "       'Qt SM RMI'],\n",
              "      dtype='object')"
            ]
          },
          "metadata": {},
          "execution_count": 41
        }
      ]
    },
    {
      "cell_type": "code",
      "source": [
        "#Trocando os nomes das colunas\n",
        "#lista_colunas = ['Competência concessão', 'Espécie', 'CID', 'Despacho', 'Dt Nascimento','Sexo.', 'Clientela','Tipo de Cálculo', 'Mun. Resid.', 'Estado','Forma Filiação', 'Qt SM RMI']\n",
        "#df_ben = df_ben[lista_colunas]\n",
        "df_ben = df_ben.rename(columns={'Competência concessão':'Competência','Sexo.':'Sexo','Clientela':'Zona','Forma Filiação':'Filiação'})\n",
        "df_ben.columns"
      ],
      "metadata": {
        "colab": {
          "base_uri": "https://localhost:8080/"
        },
        "outputId": "227ed224-1238-45f8-e897-0ea75c35584e",
        "id": "kOwfroA_2k8H"
      },
      "execution_count": 42,
      "outputs": [
        {
          "output_type": "execute_result",
          "data": {
            "text/plain": [
              "Index(['Competência', 'Espécie', 'CID', 'Despacho', 'Dt Nascimento', 'Sexo',\n",
              "       'Zona', 'Mun. Resid.', 'Estado', 'Filiação', 'Qt SM RMI'],\n",
              "      dtype='object')"
            ]
          },
          "metadata": {},
          "execution_count": 42
        }
      ]
    },
    {
      "cell_type": "code",
      "source": [
        "df_ben['CID'] = df_ben['CID'].str.strip() #Apaga espaços em branco no inicio e fim da linha conforme coluna\n",
        "cid_ord = df_ben['CID'].value_counts()\n",
        "#cid_ord"
      ],
      "metadata": {
        "id": "56YjV-nO-9_0"
      },
      "execution_count": 43,
      "outputs": []
    },
    {
      "cell_type": "code",
      "source": [
        "#Apaga todas as linhas que tenham valor NaN (Missings)\n",
        "df_ben = df_ben.dropna()\n",
        "df_ben.isna().sum()\n",
        "df_ben.shape"
      ],
      "metadata": {
        "colab": {
          "base_uri": "https://localhost:8080/"
        },
        "id": "CB71XCuP4E7e",
        "outputId": "2a6752db-4083-478b-8160-97f2a4f4b643"
      },
      "execution_count": 44,
      "outputs": [
        {
          "output_type": "execute_result",
          "data": {
            "text/plain": [
              "(1883121, 11)"
            ]
          },
          "metadata": {},
          "execution_count": 44
        }
      ]
    },
    {
      "cell_type": "code",
      "source": [
        "#Muda o Tipo da coluna competencia para Objeto (String) \n",
        "df_ben['Competência'] = df_ben['Competência'].astype(str)\n",
        "df_ben['Competência'] = df_ben['Competência'].str.replace('2022','')\n",
        "#df_ben.info()\n",
        "df_ben['Competência'].unique()"
      ],
      "metadata": {
        "colab": {
          "base_uri": "https://localhost:8080/"
        },
        "id": "ahebaYnG8RHI",
        "outputId": "349f3e93-505f-4374-e036-6b4204036138"
      },
      "execution_count": 45,
      "outputs": [
        {
          "output_type": "execute_result",
          "data": {
            "text/plain": [
              "array(['01', '02', '03', '04', '05', '06', '07', '08', '09', '10', '11',\n",
              "       '12'], dtype=object)"
            ]
          },
          "metadata": {},
          "execution_count": 45
        }
      ]
    },
    {
      "cell_type": "code",
      "source": [
        "#Verificando os valores numéricos do atributo Qt SM RMI\n",
        "df_ben['Qt SM RMI'].describe()"
      ],
      "metadata": {
        "colab": {
          "base_uri": "https://localhost:8080/"
        },
        "id": "CjB5YC4nDqDr",
        "outputId": "89cb1a6c-2fc8-4df0-9856-54451d775b42"
      },
      "execution_count": 46,
      "outputs": [
        {
          "output_type": "execute_result",
          "data": {
            "text/plain": [
              "count    1.883121e+06\n",
              "mean     1.423869e+00\n",
              "std      6.924445e-01\n",
              "min      9.000000e-02\n",
              "25%      1.000000e+00\n",
              "50%      1.140000e+00\n",
              "75%      1.540000e+00\n",
              "max      7.572000e+00\n",
              "Name: Qt SM RMI, dtype: float64"
            ]
          },
          "metadata": {},
          "execution_count": 46
        }
      ]
    },
    {
      "cell_type": "markdown",
      "source": [
        "### 3.2 - Plotando os gráficos"
      ],
      "metadata": {
        "id": "ApwWTsUFEBa9"
      }
    },
    {
      "cell_type": "code",
      "source": [
        "#Plota o gráfico em Histograma de processos concluídos por mês\n",
        "plt.hist(df_ben['Competência'], bins=12, edgecolor='yellow', color='blue') \n",
        "#competencia = df_ben['Competência'].value_counts() #\n",
        "#display(competencia)\n",
        "#competencia.plot(figsize=(15,5))\n",
        "plt.title('Processos concluídos por mês')\n",
        "plt.xlabel('Mês de 2022')\n",
        "#plt.legend('Processos concluídos por mês'); "
      ],
      "metadata": {
        "colab": {
          "base_uri": "https://localhost:8080/",
          "height": 489
        },
        "id": "XcKoy6r2GR3p",
        "outputId": "1e959060-5d13-46b5-bfe1-0922af397317"
      },
      "execution_count": 47,
      "outputs": [
        {
          "output_type": "execute_result",
          "data": {
            "text/plain": [
              "Text(0.5, 0, 'Mês de 2022')"
            ]
          },
          "metadata": {},
          "execution_count": 47
        },
        {
          "output_type": "display_data",
          "data": {
            "text/plain": [
              "<Figure size 640x480 with 1 Axes>"
            ],
            "image/png": "[encoded data removed]"
          },
          "metadata": {}
        }
      ]
    },
    {
      "cell_type": "code",
      "source": [
        "#plt.pie(df_ben['Competência'], labels= df_ben['Competência'])\n",
        "competencia = df_ben['Competência'].value_counts()\n",
        "competencia.plot(figsize=(15,5), kind='pie')\n",
        "plt.title('Processos Concedidos por Mês')\n",
        "plt.xlabel('Meses de 2022')"
      ],
      "metadata": {
        "id": "kwaeirK6KRbv",
        "colab": {
          "base_uri": "https://localhost:8080/",
          "height": 481
        },
        "outputId": "9fbf90cc-eca3-4580-9dc1-6ffb579a0fa0"
      },
      "execution_count": 48,
      "outputs": [
        {
          "output_type": "execute_result",
          "data": {
            "text/plain": [
              "Text(0.5, 0, 'Meses de 2022')"
            ]
          },
          "metadata": {},
          "execution_count": 48
        },
        {
          "output_type": "display_data",
          "data": {
            "text/plain": [
              "<Figure size 1500x500 with 1 Axes>"
            ],
            "image/png": "[encoded data removed]"
          },
          "metadata": {}
        }
      ]
    },
    {
      "cell_type": "code",
      "source": [
        "#Plota o gráfico em Histograma de processos concluídos por Espécie\n",
        "plt.hist(df_ben['Espécie'], bins=2, edgecolor='yellow', color='blue') \n",
        "plt.title('Processos concluídos por Espécie')\n",
        "plt.xlabel('Espécies: B31 e B91')\n",
        "#plt.legend('B31');"
      ],
      "metadata": {
        "colab": {
          "base_uri": "https://localhost:8080/",
          "height": 490
        },
        "id": "eZq3tHvSHqSG",
        "outputId": "be206350-48df-46c7-b22c-e6ad30438800"
      },
      "execution_count": 49,
      "outputs": [
        {
          "output_type": "execute_result",
          "data": {
            "text/plain": [
              "Text(0.5, 0, 'Espécies: B31 e B91')"
            ]
          },
          "metadata": {},
          "execution_count": 49
        },
        {
          "output_type": "display_data",
          "data": {
            "text/plain": [
              "<Figure size 640x480 with 1 Axes>"
            ],
            "image/png": "[encoded data removed]"
          },
          "metadata": {}
        }
      ]
    },
    {
      "cell_type": "code",
      "source": [
        "#QTD por despacho\n",
        "despacho = df_ben['Despacho'].value_counts()\n",
        "despacho.plot(figsize=(14,5))\n",
        "plt.title('Processos Concedidos por Despacho')\n",
        "plt.xlabel('Tipos de Despacho')\n",
        "df_ben['Despacho'].value_counts()"
      ],
      "metadata": {
        "colab": {
          "base_uri": "https://localhost:8080/",
          "height": 609
        },
        "id": "tmXM4MsOTdCP",
        "outputId": "a87612c9-77ee-4c2e-9879-6b75154f07f6"
      },
      "execution_count": 50,
      "outputs": [
        {
          "output_type": "execute_result",
          "data": {
            "text/plain": [
              "Concessao Normal                            1659047\n",
              "Acao Judicial                                162432\n",
              "Revisao Administrativa                        58387\n",
              "Recurso                                        3212\n",
              "Revisão Médica                                   42\n",
              "Concessao com Diligencia (Rd ou Sp)               1\n",
              "Name: Despacho, dtype: int64"
            ]
          },
          "metadata": {},
          "execution_count": 50
        },
        {
          "output_type": "display_data",
          "data": {
            "text/plain": [
              "<Figure size 1400x500 with 1 Axes>"
            ],
            "image/png": "[encoded data removed]"
          },
          "metadata": {}
        }
      ]
    },
    {
      "cell_type": "code",
      "source": [
        "#Plota o gráfico em Histograma de processos concluídos por Sexo\n",
        "plt.hist(df_ben['Sexo'], bins=2, edgecolor='yellow', color='blue') \n",
        "plt.title('Processos Concedidos por Sexo')\n",
        "plt.xlabel('Sexo')"
      ],
      "metadata": {
        "colab": {
          "base_uri": "https://localhost:8080/",
          "height": 489
        },
        "id": "d44xjCNkIQK0",
        "outputId": "f9d1f50e-af12-4c18-fbf3-c4bb8d120c69"
      },
      "execution_count": 51,
      "outputs": [
        {
          "output_type": "execute_result",
          "data": {
            "text/plain": [
              "Text(0.5, 0, 'Sexo')"
            ]
          },
          "metadata": {},
          "execution_count": 51
        },
        {
          "output_type": "display_data",
          "data": {
            "text/plain": [
              "<Figure size 640x480 with 1 Axes>"
            ],
            "image/png": "[encoded data removed]"
          },
          "metadata": {}
        }
      ]
    },
    {
      "cell_type": "code",
      "source": [
        "#Plota o gráfico em Histograma de processos concluídos por Filiação\n",
        "#plt.hist(df_ben['Filiação'], bins=10, edgecolor='green', color='blue') \n",
        "df_ben['Filiação'].unique()\n",
        "filiacao = df_ben['Filiação'].value_counts()\n",
        "filiacao.plot(figsize=(14,5), kind='bar')\n",
        "plt.title('Processos Concedidos por Filiação')\n",
        "plt.xlabel('Filiação')"
      ],
      "metadata": {
        "colab": {
          "base_uri": "https://localhost:8080/",
          "height": 636
        },
        "id": "BpUGXUYnUY50",
        "outputId": "42fc4036-409c-4a27-97bc-4df3fa5fec08"
      },
      "execution_count": 52,
      "outputs": [
        {
          "output_type": "execute_result",
          "data": {
            "text/plain": [
              "Text(0.5, 0, 'Filiação')"
            ]
          },
          "metadata": {},
          "execution_count": 52
        },
        {
          "output_type": "display_data",
          "data": {
            "text/plain": [
              "<Figure size 1400x500 with 1 Axes>"
            ],
            "image/png": "[encoded data removed]"
          },
          "metadata": {}
        }
      ]
    },
    {
      "cell_type": "code",
      "source": [
        "#Plota o gráfico em Histograma de processos concluídos por Estado\n",
        "#plt.hist(df_ben['Estado'], bins=28, edgecolor='green', color='blue') \n",
        "estado = df_ben['Estado'].value_counts()\n",
        "estado.plot(figsize=(15,5), kind='bar')\n",
        "plt.title('Processos Concedidos por Estado')\n",
        "plt.xlabel('Estado')"
      ],
      "metadata": {
        "id": "I0CeY68dVJtu",
        "colab": {
          "base_uri": "https://localhost:8080/",
          "height": 513
        },
        "outputId": "abda9706-adbf-43f4-be47-3bbf37d9c7ec"
      },
      "execution_count": 53,
      "outputs": [
        {
          "output_type": "execute_result",
          "data": {
            "text/plain": [
              "Text(0.5, 0, 'Estado')"
            ]
          },
          "metadata": {},
          "execution_count": 53
        },
        {
          "output_type": "display_data",
          "data": {
            "text/plain": [
              "<Figure size 1500x500 with 1 Axes>"
            ],
            "image/png": "[encoded data removed]"
          },
          "metadata": {}
        }
      ]
    },
    {
      "cell_type": "code",
      "source": [
        "#Plota o gráfico em Histograma de processos concluídos por Zona\n",
        "plt.hist(df_ben['Zona'], bins=2, edgecolor='yellow', color='blue') "
      ],
      "metadata": {
        "id": "uDE3HKq5T8ok",
        "colab": {
          "base_uri": "https://localhost:8080/",
          "height": 497
        },
        "outputId": "82ae6c0f-cf65-48d1-f7b7-f846e7ef1716"
      },
      "execution_count": 54,
      "outputs": [
        {
          "output_type": "execute_result",
          "data": {
            "text/plain": [
              "(array([1750292.,  132829.]),\n",
              " array([0. , 0.5, 1. ]),\n",
              " <BarContainer object of 2 artists>)"
            ]
          },
          "metadata": {},
          "execution_count": 54
        },
        {
          "output_type": "display_data",
          "data": {
            "text/plain": [
              "<Figure size 640x480 with 1 Axes>"
            ],
            "image/png": "[encoded data removed]"
          },
          "metadata": {}
        }
      ]
    },
    {
      "cell_type": "code",
      "source": [
        "#Ver como plotar grafico de barras entre espécie e sexo\n",
        "#plt.bar(df_ben['Espécie'],df_ben['Sexo'])"
      ],
      "metadata": {
        "id": "FwEn-wDEEdEi"
      },
      "execution_count": 55,
      "outputs": []
    },
    {
      "cell_type": "code",
      "source": [
        "#Plota Gráfico de dispersão Sexo por RMI\n",
        "plt.scatter(df_ben['Sexo'],df_ben['Qt SM RMI'])\n",
        "rmi = df_ben['Qt SM RMI'].value_counts()\n",
        "rmi"
      ],
      "metadata": {
        "id": "c9M3x6o2LL_D",
        "colab": {
          "base_uri": "https://localhost:8080/",
          "height": 638
        },
        "outputId": "50d52e9e-76ed-41cd-e9bb-507efb5a8bbd"
      },
      "execution_count": 56,
      "outputs": [
        {
          "output_type": "execute_result",
          "data": {
            "text/plain": [
              "1.000    661694\n",
              "1.002      5723\n",
              "1.005      4220\n",
              "1.010      3986\n",
              "1.004      3946\n",
              "          ...  \n",
              "0.839         1\n",
              "0.992         1\n",
              "6.266         1\n",
              "0.960         1\n",
              "5.801         1\n",
              "Name: Qt SM RMI, Length: 4402, dtype: int64"
            ]
          },
          "metadata": {},
          "execution_count": 56
        },
        {
          "output_type": "display_data",
          "data": {
            "text/plain": [
              "<Figure size 640x480 with 1 Axes>"
            ],
            "image/png": "[encoded data removed]"
          },
          "metadata": {}
        }
      ]
    },
    {
      "cell_type": "code",
      "source": [
        "#Plota Gráfico de dispersão Sexo por RMI\n",
        "plt.scatter(df_ben['Qt SM RMI'],df_ben['Competência'])"
      ],
      "metadata": {
        "id": "dV4xTpH0Niuy",
        "colab": {
          "base_uri": "https://localhost:8080/",
          "height": 447
        },
        "outputId": "e42b4b2e-4fd7-4a1d-fc30-4f8f32598763"
      },
      "execution_count": 57,
      "outputs": [
        {
          "output_type": "execute_result",
          "data": {
            "text/plain": [
              "<matplotlib.collections.PathCollection at 0x7f1da12212a0>"
            ]
          },
          "metadata": {},
          "execution_count": 57
        },
        {
          "output_type": "display_data",
          "data": {
            "text/plain": [
              "<Figure size 640x480 with 1 Axes>"
            ],
            "image/png": "[encoded data removed]"
          },
          "metadata": {}
        }
      ]
    },
    {
      "cell_type": "code",
      "source": [
        "df_ben.to_csv('df_beneficio.csv', sep=';')"
      ],
      "metadata": {
        "id": "ffufjbysfpti"
      },
      "execution_count": 58,
      "outputs": []
    },
    {
      "cell_type": "code",
      "source": [
        "#Plotar Gráfico de linhas com a média de RMI por mês\n",
        "for competencia in df_ben['Competência']:\n",
        "  rmi_mes = df_ben['Qt SM RMI'].mean()\n",
        "rmi_mes.plot(figsize=(15,5), kind='line')\n",
        "plt.title('RMI por Mês')\n",
        "plt.xlabel('RMI')"
      ],
      "metadata": {
        "id": "1OaYrSB8Ram_"
      },
      "execution_count": null,
      "outputs": []
    },
    {
      "cell_type": "code",
      "source": [
        "#Valores de SM por Mês\n",
        "#plt.plot(df_ben['Competência'],df_ben['Qt SM RMI'])\n",
        "sm_mes = df_ben['Qt SM RMI'].mean()\n",
        "sm_mes.plot(figsize=(15,5), kind='bar')\n",
        "plt.title('SM por Mês')\n",
        "plt.xlabel('Competência')"
      ],
      "metadata": {
        "id": "6e10O9aUPrmB"
      },
      "execution_count": null,
      "outputs": []
    },
    {
      "cell_type": "code",
      "source": [
        "#Valores de SM médio por Mês\n",
        "#RMI = df_ben['Qt SM RMI'].mean()\n",
        "#plt.plot(df_ben['Competência'],RMI)"
      ],
      "metadata": {
        "id": "HNG5K1YQawNt"
      },
      "execution_count": null,
      "outputs": []
    },
    {
      "cell_type": "code",
      "source": [
        "#plt.bar(df_ben['Espécie'],df_ben['Sexo'])"
      ],
      "metadata": {
        "id": "B55GMIUnCtEX"
      },
      "execution_count": null,
      "outputs": []
    },
    {
      "cell_type": "markdown",
      "source": [
        "## 4 - ML - Treino e Teste\n",
        "\n",
        "---\n",
        "\n"
      ],
      "metadata": {
        "id": "9aqk38gBDl0H"
      }
    }
  ]
}