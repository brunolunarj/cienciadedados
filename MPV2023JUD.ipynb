{
  "cells": [
    {
      "cell_type": "markdown",
      "metadata": {
        "id": "view-in-github",
        "colab_type": "text"
      },
      "source": [
        "<a href=\"https://colab.research.google.com/github/brunolunarj/cienciadedados/blob/MVP-JUD/MPV2023JUD.ipynb\" target=\"_parent\"><img src=\"https://colab.research.google.com/assets/colab-badge.svg\" alt=\"Open In Colab\"/></a>"
      ]
    },
    {
      "cell_type": "markdown",
      "metadata": {
        "id": "8GQnMcSEf1dm"
      },
      "source": [
        "# **MVP PUCRIO - Análise de Dados de Benefícios Judiciais do INSS em 2022**"
      ]
    },
    {
      "cell_type": "markdown",
      "source": [
        "**Por Bruno de Amorim Luna**"
      ],
      "metadata": {
        "id": "7a4iiCIcdClo"
      }
    },
    {
      "cell_type": "markdown",
      "metadata": {
        "id": "_-5DmxCOih5k"
      },
      "source": [
        "## 1 - DEFINIÇÃO DO PROBLEMA\n",
        "---\n",
        "\n",
        "\n"
      ]
    },
    {
      "cell_type": "markdown",
      "metadata": {
        "id": "tzzwtdvnivQ4"
      },
      "source": [
        "O **Instituto Nacional de Seguro Social - INSS** caracteriza-se como uma organização pública prestadora de serviços previdenciários para a sociedade brasileira.\n",
        "Fazer análise dos dados Previdenciários dos benefícios de **CONCEDIDOS JUDICIALMENTE no ano de 2022** pelo **INSS** e verificar insigts para melhorar a análise e concessão dos benefícios judiciais, além de analisar a RMI (Renda Mensal) e onde estão as concessões buscando dados para melhorá-las. <br>\n",
        "Os dados foram retirados dos Dados Abertos do Instituto (https://dados.gov.br/dados/organizacoes/visualizar/instituto-nacional-de-seguro-social-inss).\n",
        "\n"
      ]
    },
    {
      "cell_type": "markdown",
      "metadata": {
        "id": "LWJ-fKIu507m"
      },
      "source": [
        "**Dicionário de Dados - Atributos (COLUNAS)**\n",
        ">**0   Competência concessão** - Mês que foi concedido o benefício <br>\n",
        ">**1   Espécie** - Espécie do Benefício Previdenciário <br>\n",
        ">**2   CID** - Codigo Internacional de Doenças <br>\n",
        ">**3   Dt Nascimento** - Data de nascimento Segurado do benefício <br>\n",
        ">**4   Sexo.** - Sexo Masculino ou Feminino <br>\n",
        ">**5   Clientela** - Especificação do benefício por zona (Rural e Urbana) <br>\n",
        ">**6   Mun. Resid** - Município do Segurado do benefício <br>\n",
        ">**7   UF Resid** - UF do Segurado do benefício <br>\n",
        ">**8  Forma Filiação** - Filiação do Segurado no momento da concessão <br>\n",
        ">**9   UF** - Estado da concessão do benefício <br>\n",
        ">**10  Qt SM RMI** - Quantidade de Salário Mínimo da Renda Mensal Inicial(RMI) <br>"
      ]
    },
    {
      "cell_type": "markdown",
      "metadata": {
        "id": "Ca0la90NzaZw"
      },
      "source": [
        "## 2 - COLETA E ANÁLISE INICIAL DOS DADOS\n",
        "\n",
        "---\n",
        "\n"
      ]
    },
    {
      "cell_type": "markdown",
      "metadata": {
        "id": "AxCUuybijimP"
      },
      "source": [
        "### 2.1 - IMPORTAÇÃO DE PACOTES E COLETA DOS DADOS"
      ]
    },
    {
      "cell_type": "code",
      "execution_count": 135,
      "metadata": {
        "colab": {
          "base_uri": "https://localhost:8080/",
          "height": 835
        },
        "id": "QHBQ2-oOfuoW",
        "outputId": "c41d704e-400e-4f7d-a2ac-bca36cf74fa6"
      },
      "outputs": [
        {
          "output_type": "display_data",
          "data": {
            "text/plain": [
              "        Competência concessão                                        Espécie  \\\n",
              "0                      202201  Auxílio Doenca Previdenciário                   \n",
              "1                      202201  Auxílio Doenca Previdenciário                   \n",
              "2                      202201  Auxílio Doenca Previdenciário                   \n",
              "3                      202201  Aposentadoria por Tempo de Contribuição         \n",
              "4                      202201  Auxílio Doenca Previdenciário                   \n",
              "...                       ...                                            ...   \n",
              "780998                 202212  Amp. Social Pessoa Portadora Deficiencia        \n",
              "780999                 202212  Aposentadoria por Idade                         \n",
              "781000                 202212  Aposentadoria por Idade                         \n",
              "781001                 202212  Aposentadoria por Idade                         \n",
              "781002                 202212  Aposentadoria por Idade                         \n",
              "\n",
              "                                                  CID Dt Nascimento  \\\n",
              "0       Em Branco                                        1965-05-25   \n",
              "1       Em Branco                                        1970-09-25   \n",
              "2       Em Branco                                        1977-05-16   \n",
              "3       Zerados                                          1966-03-12   \n",
              "4       Em Branco                                        1974-06-14   \n",
              "...                                               ...           ...   \n",
              "780998  Zerados                                          2012-07-08   \n",
              "780999  Zerados                                          1961-03-10   \n",
              "781000  Zerados                                          1960-07-16   \n",
              "781001  Zerados                                          1957-09-07   \n",
              "781002  Zerados                                          1964-12-06   \n",
              "\n",
              "                 Sexo Clientela                         Mun Resid  \\\n",
              "0       Masculino      Rural     Maceió                             \n",
              "1       Masculino      Urbano    Maceió                             \n",
              "2       Feminino       Urbano    Maceió                             \n",
              "3       Masculino      Urbano    Maceió                             \n",
              "4       Masculino      Rural     Piaçabuçu                          \n",
              "...               ...       ...                               ...   \n",
              "780998  Masculino      Urbano    Tangará da Serra                   \n",
              "780999  Masculino      Rural     Bela Vista de Goiás                \n",
              "781000  Masculino      Rural                                  NaN   \n",
              "781001  Feminino       Rural     Nazaré                             \n",
              "781002  Feminino       Rural     Ananindeua                         \n",
              "\n",
              "                                   UF Resid       Forma Filiação  \\\n",
              "0                                        AL  Segurado Especial     \n",
              "1                                        AL  Autônomo              \n",
              "2                                        AL  Autônomo              \n",
              "3                                        AL  Desempregado          \n",
              "4                                        AL  Segurado Especial     \n",
              "...                                     ...                  ...   \n",
              "780998                                   MT  Desempregado          \n",
              "780999                                   GO  Segurado Especial     \n",
              "781000  Zerada                               Segurado Especial     \n",
              "781001                                   TO  Segurado Especial     \n",
              "781002                                   PA  Segurado Especial     \n",
              "\n",
              "                         UF  Qt SM RMI  \n",
              "0       Alagoas                    1.0  \n",
              "1       Alagoas                    1.0  \n",
              "2       Alagoas                    1.1  \n",
              "3       Alagoas                    1.0  \n",
              "4       Alagoas                    1.0  \n",
              "...                     ...        ...  \n",
              "780998  Amapá                      1.0  \n",
              "780999  Rondônia                   1.0  \n",
              "781000  Rondônia                   1.0  \n",
              "781001  Rondônia                   1.0  \n",
              "781002  Rondônia                   1.0  \n",
              "\n",
              "[781003 rows x 11 columns]"
            ],
            "text/html": [
              "\n",
              "  <div id=\"df-94c3d26d-505a-4754-acbf-fecdf0efa70b\">\n",
              "    <div class=\"colab-df-container\">\n",
              "      <div>\n",
              "<style scoped>\n",
              "    .dataframe tbody tr th:only-of-type {\n",
              "        vertical-align: middle;\n",
              "    }\n",
              "\n",
              "    .dataframe tbody tr th {\n",
              "        vertical-align: top;\n",
              "    }\n",
              "\n",
              "    .dataframe thead th {\n",
              "        text-align: right;\n",
              "    }\n",
              "</style>\n",
              "<table border=\"1\" class=\"dataframe\">\n",
              "  <thead>\n",
              "    <tr style=\"text-align: right;\">\n",
              "      <th></th>\n",
              "      <th>Competência concessão</th>\n",
              "      <th>Espécie</th>\n",
              "      <th>CID</th>\n",
              "      <th>Dt Nascimento</th>\n",
              "      <th>Sexo</th>\n",
              "      <th>Clientela</th>\n",
              "      <th>Mun Resid</th>\n",
              "      <th>UF Resid</th>\n",
              "      <th>Forma Filiação</th>\n",
              "      <th>UF</th>\n",
              "      <th>Qt SM RMI</th>\n",
              "    </tr>\n",
              "  </thead>\n",
              "  <tbody>\n",
              "    <tr>\n",
              "      <th>0</th>\n",
              "      <td>202201</td>\n",
              "      <td>Auxílio Doenca Previdenciário</td>\n",
              "      <td>Em Branco</td>\n",
              "      <td>1965-05-25</td>\n",
              "      <td>Masculino</td>\n",
              "      <td>Rural</td>\n",
              "      <td>Maceió</td>\n",
              "      <td>AL</td>\n",
              "      <td>Segurado Especial</td>\n",
              "      <td>Alagoas</td>\n",
              "      <td>1.0</td>\n",
              "    </tr>\n",
              "    <tr>\n",
              "      <th>1</th>\n",
              "      <td>202201</td>\n",
              "      <td>Auxílio Doenca Previdenciário</td>\n",
              "      <td>Em Branco</td>\n",
              "      <td>1970-09-25</td>\n",
              "      <td>Masculino</td>\n",
              "      <td>Urbano</td>\n",
              "      <td>Maceió</td>\n",
              "      <td>AL</td>\n",
              "      <td>Autônomo</td>\n",
              "      <td>Alagoas</td>\n",
              "      <td>1.0</td>\n",
              "    </tr>\n",
              "    <tr>\n",
              "      <th>2</th>\n",
              "      <td>202201</td>\n",
              "      <td>Auxílio Doenca Previdenciário</td>\n",
              "      <td>Em Branco</td>\n",
              "      <td>1977-05-16</td>\n",
              "      <td>Feminino</td>\n",
              "      <td>Urbano</td>\n",
              "      <td>Maceió</td>\n",
              "      <td>AL</td>\n",
              "      <td>Autônomo</td>\n",
              "      <td>Alagoas</td>\n",
              "      <td>1.1</td>\n",
              "    </tr>\n",
              "    <tr>\n",
              "      <th>3</th>\n",
              "      <td>202201</td>\n",
              "      <td>Aposentadoria por Tempo de Contribuição</td>\n",
              "      <td>Zerados</td>\n",
              "      <td>1966-03-12</td>\n",
              "      <td>Masculino</td>\n",
              "      <td>Urbano</td>\n",
              "      <td>Maceió</td>\n",
              "      <td>AL</td>\n",
              "      <td>Desempregado</td>\n",
              "      <td>Alagoas</td>\n",
              "      <td>1.0</td>\n",
              "    </tr>\n",
              "    <tr>\n",
              "      <th>4</th>\n",
              "      <td>202201</td>\n",
              "      <td>Auxílio Doenca Previdenciário</td>\n",
              "      <td>Em Branco</td>\n",
              "      <td>1974-06-14</td>\n",
              "      <td>Masculino</td>\n",
              "      <td>Rural</td>\n",
              "      <td>Piaçabuçu</td>\n",
              "      <td>AL</td>\n",
              "      <td>Segurado Especial</td>\n",
              "      <td>Alagoas</td>\n",
              "      <td>1.0</td>\n",
              "    </tr>\n",
              "    <tr>\n",
              "      <th>...</th>\n",
              "      <td>...</td>\n",
              "      <td>...</td>\n",
              "      <td>...</td>\n",
              "      <td>...</td>\n",
              "      <td>...</td>\n",
              "      <td>...</td>\n",
              "      <td>...</td>\n",
              "      <td>...</td>\n",
              "      <td>...</td>\n",
              "      <td>...</td>\n",
              "      <td>...</td>\n",
              "    </tr>\n",
              "    <tr>\n",
              "      <th>780998</th>\n",
              "      <td>202212</td>\n",
              "      <td>Amp. Social Pessoa Portadora Deficiencia</td>\n",
              "      <td>Zerados</td>\n",
              "      <td>2012-07-08</td>\n",
              "      <td>Masculino</td>\n",
              "      <td>Urbano</td>\n",
              "      <td>Tangará da Serra</td>\n",
              "      <td>MT</td>\n",
              "      <td>Desempregado</td>\n",
              "      <td>Amapá</td>\n",
              "      <td>1.0</td>\n",
              "    </tr>\n",
              "    <tr>\n",
              "      <th>780999</th>\n",
              "      <td>202212</td>\n",
              "      <td>Aposentadoria por Idade</td>\n",
              "      <td>Zerados</td>\n",
              "      <td>1961-03-10</td>\n",
              "      <td>Masculino</td>\n",
              "      <td>Rural</td>\n",
              "      <td>Bela Vista de Goiás</td>\n",
              "      <td>GO</td>\n",
              "      <td>Segurado Especial</td>\n",
              "      <td>Rondônia</td>\n",
              "      <td>1.0</td>\n",
              "    </tr>\n",
              "    <tr>\n",
              "      <th>781000</th>\n",
              "      <td>202212</td>\n",
              "      <td>Aposentadoria por Idade</td>\n",
              "      <td>Zerados</td>\n",
              "      <td>1960-07-16</td>\n",
              "      <td>Masculino</td>\n",
              "      <td>Rural</td>\n",
              "      <td>NaN</td>\n",
              "      <td>Zerada</td>\n",
              "      <td>Segurado Especial</td>\n",
              "      <td>Rondônia</td>\n",
              "      <td>1.0</td>\n",
              "    </tr>\n",
              "    <tr>\n",
              "      <th>781001</th>\n",
              "      <td>202212</td>\n",
              "      <td>Aposentadoria por Idade</td>\n",
              "      <td>Zerados</td>\n",
              "      <td>1957-09-07</td>\n",
              "      <td>Feminino</td>\n",
              "      <td>Rural</td>\n",
              "      <td>Nazaré</td>\n",
              "      <td>TO</td>\n",
              "      <td>Segurado Especial</td>\n",
              "      <td>Rondônia</td>\n",
              "      <td>1.0</td>\n",
              "    </tr>\n",
              "    <tr>\n",
              "      <th>781002</th>\n",
              "      <td>202212</td>\n",
              "      <td>Aposentadoria por Idade</td>\n",
              "      <td>Zerados</td>\n",
              "      <td>1964-12-06</td>\n",
              "      <td>Feminino</td>\n",
              "      <td>Rural</td>\n",
              "      <td>Ananindeua</td>\n",
              "      <td>PA</td>\n",
              "      <td>Segurado Especial</td>\n",
              "      <td>Rondônia</td>\n",
              "      <td>1.0</td>\n",
              "    </tr>\n",
              "  </tbody>\n",
              "</table>\n",
              "<p>781003 rows × 11 columns</p>\n",
              "</div>\n",
              "      <button class=\"colab-df-convert\" onclick=\"convertToInteractive('df-94c3d26d-505a-4754-acbf-fecdf0efa70b')\"\n",
              "              title=\"Convert this dataframe to an interactive table.\"\n",
              "              style=\"display:none;\">\n",
              "        \n",
              "  <svg xmlns=\"http://www.w3.org/2000/svg\" height=\"24px\"viewBox=\"0 0 24 24\"\n",
              "       width=\"24px\">\n",
              "    <path d=\"M0 0h24v24H0V0z\" fill=\"none\"/>\n",
              "    <path d=\"M18.56 5.44l.94 2.06.94-2.06 2.06-.94-2.06-.94-.94-2.06-.94 2.06-2.06.94zm-11 1L8.5 8.5l.94-2.06 2.06-.94-2.06-.94L8.5 2.5l-.94 2.06-2.06.94zm10 10l.94 2.06.94-2.06 2.06-.94-2.06-.94-.94-2.06-.94 2.06-2.06.94z\"/><path d=\"M17.41 7.96l-1.37-1.37c-.4-.4-.92-.59-1.43-.59-.52 0-1.04.2-1.43.59L10.3 9.45l-7.72 7.72c-.78.78-.78 2.05 0 2.83L4 21.41c.39.39.9.59 1.41.59.51 0 1.02-.2 1.41-.59l7.78-7.78 2.81-2.81c.8-.78.8-2.07 0-2.86zM5.41 20L4 18.59l7.72-7.72 1.47 1.35L5.41 20z\"/>\n",
              "  </svg>\n",
              "      </button>\n",
              "      \n",
              "  <style>\n",
              "    .colab-df-container {\n",
              "      display:flex;\n",
              "      flex-wrap:wrap;\n",
              "      gap: 12px;\n",
              "    }\n",
              "\n",
              "    .colab-df-convert {\n",
              "      background-color: #E8F0FE;\n",
              "      border: none;\n",
              "      border-radius: 50%;\n",
              "      cursor: pointer;\n",
              "      display: none;\n",
              "      fill: #1967D2;\n",
              "      height: 32px;\n",
              "      padding: 0 0 0 0;\n",
              "      width: 32px;\n",
              "    }\n",
              "\n",
              "    .colab-df-convert:hover {\n",
              "      background-color: #E2EBFA;\n",
              "      box-shadow: 0px 1px 2px rgba(60, 64, 67, 0.3), 0px 1px 3px 1px rgba(60, 64, 67, 0.15);\n",
              "      fill: #174EA6;\n",
              "    }\n",
              "\n",
              "    [theme=dark] .colab-df-convert {\n",
              "      background-color: #3B4455;\n",
              "      fill: #D2E3FC;\n",
              "    }\n",
              "\n",
              "    [theme=dark] .colab-df-convert:hover {\n",
              "      background-color: #434B5C;\n",
              "      box-shadow: 0px 1px 3px 1px rgba(0, 0, 0, 0.15);\n",
              "      filter: drop-shadow(0px 1px 2px rgba(0, 0, 0, 0.3));\n",
              "      fill: #FFFFFF;\n",
              "    }\n",
              "  </style>\n",
              "\n",
              "      <script>\n",
              "        const buttonEl =\n",
              "          document.querySelector('#df-94c3d26d-505a-4754-acbf-fecdf0efa70b button.colab-df-convert');\n",
              "        buttonEl.style.display =\n",
              "          google.colab.kernel.accessAllowed ? 'block' : 'none';\n",
              "\n",
              "        async function convertToInteractive(key) {\n",
              "          const element = document.querySelector('#df-94c3d26d-505a-4754-acbf-fecdf0efa70b');\n",
              "          const dataTable =\n",
              "            await google.colab.kernel.invokeFunction('convertToInteractive',\n",
              "                                                     [key], {});\n",
              "          if (!dataTable) return;\n",
              "\n",
              "          const docLinkHtml = 'Like what you see? Visit the ' +\n",
              "            '<a target=\"_blank\" href=https://colab.research.google.com/notebooks/data_table.ipynb>data table notebook</a>'\n",
              "            + ' to learn more about interactive tables.';\n",
              "          element.innerHTML = '';\n",
              "          dataTable['output_type'] = 'display_data';\n",
              "          await google.colab.output.renderOutput(dataTable, element);\n",
              "          const docLink = document.createElement('div');\n",
              "          docLink.innerHTML = docLinkHtml;\n",
              "          element.appendChild(docLink);\n",
              "        }\n",
              "      </script>\n",
              "    </div>\n",
              "  </div>\n",
              "  "
            ]
          },
          "metadata": {}
        },
        {
          "output_type": "execute_result",
          "data": {
            "text/plain": [
              "(781008, 11)"
            ]
          },
          "metadata": {},
          "execution_count": 135
        }
      ],
      "source": [
        "# Importação de pacotes\n",
        "import pandas as pd\n",
        "import numpy as np\n",
        "import matplotlib.pyplot as plt\n",
        "import seaborn as sns \n",
        "from sklearn.preprocessing import MinMaxScaler # normalização\n",
        "from sklearn.preprocessing import StandardScaler # padronização\n",
        "from sklearn.preprocessing import OrdinalEncoder # ordinal encoding\n",
        "from sklearn.preprocessing import OneHotEncoder  # one-hot encoding e dummy encoding\n",
        "from sklearn.model_selection import train_test_split\n",
        "#from google.colab import drive\n",
        "# Configuração para não exibir os warnings\n",
        "import warnings\n",
        "warnings.filterwarnings(\"ignore\")\n",
        "\n",
        "#Carregando planilhas do Excel com os dados em dataframes\n",
        "#df_ben =  pd.read_excel('https://github.com/brunolunarj/cienciadedados/blob/d3d94b0a5b2dd1a5aff4d85bf269c67390e23927/Con2022/CONC012022.xlsx?raw=true')\n",
        "df_ben =  pd.read_excel('/content/Judicial.xlsx') \n",
        "display(df_ben[:-5])\n",
        "df_ben.shape"
      ]
    },
    {
      "cell_type": "markdown",
      "metadata": {
        "id": "eUBdPHqUydVe"
      },
      "source": [
        "### 2.2 - JUNTANDO AS PLANILHAS\n"
      ]
    },
    {
      "cell_type": "code",
      "execution_count": 136,
      "metadata": {
        "colab": {
          "base_uri": "https://localhost:8080/",
          "height": 818
        },
        "id": "0QRlhbVKwgZX",
        "outputId": "a11c3d86-3923-4fb1-e6f8-16f0e935fc3b"
      },
      "outputs": [
        {
          "output_type": "execute_result",
          "data": {
            "text/plain": [
              "        Competência concessão                                        Espécie  \\\n",
              "0                      202201  Auxílio Doenca Previdenciário                   \n",
              "1                      202201  Auxílio Doenca Previdenciário                   \n",
              "2                      202201  Auxílio Doenca Previdenciário                   \n",
              "3                      202201  Aposentadoria por Tempo de Contribuição         \n",
              "4                      202201  Auxílio Doenca Previdenciário                   \n",
              "...                       ...                                            ...   \n",
              "780998                 202212  Amp. Social Pessoa Portadora Deficiencia        \n",
              "780999                 202212  Aposentadoria por Idade                         \n",
              "781000                 202212  Aposentadoria por Idade                         \n",
              "781001                 202212  Aposentadoria por Idade                         \n",
              "781002                 202212  Aposentadoria por Idade                         \n",
              "\n",
              "                                                  CID Dt Nascimento  \\\n",
              "0       Em Branco                                        1965-05-25   \n",
              "1       Em Branco                                        1970-09-25   \n",
              "2       Em Branco                                        1977-05-16   \n",
              "3       Zerados                                          1966-03-12   \n",
              "4       Em Branco                                        1974-06-14   \n",
              "...                                               ...           ...   \n",
              "780998  Zerados                                          2012-07-08   \n",
              "780999  Zerados                                          1961-03-10   \n",
              "781000  Zerados                                          1960-07-16   \n",
              "781001  Zerados                                          1957-09-07   \n",
              "781002  Zerados                                          1964-12-06   \n",
              "\n",
              "                 Sexo Clientela                         Mun Resid  \\\n",
              "0       Masculino      Rural     Maceió                             \n",
              "1       Masculino      Urbano    Maceió                             \n",
              "2       Feminino       Urbano    Maceió                             \n",
              "3       Masculino      Urbano    Maceió                             \n",
              "4       Masculino      Rural     Piaçabuçu                          \n",
              "...               ...       ...                               ...   \n",
              "780998  Masculino      Urbano    Tangará da Serra                   \n",
              "780999  Masculino      Rural     Bela Vista de Goiás                \n",
              "781000  Masculino      Rural                                  NaN   \n",
              "781001  Feminino       Rural     Nazaré                             \n",
              "781002  Feminino       Rural     Ananindeua                         \n",
              "\n",
              "                                   UF Resid       Forma Filiação  \\\n",
              "0                                        AL  Segurado Especial     \n",
              "1                                        AL  Autônomo              \n",
              "2                                        AL  Autônomo              \n",
              "3                                        AL  Desempregado          \n",
              "4                                        AL  Segurado Especial     \n",
              "...                                     ...                  ...   \n",
              "780998                                   MT  Desempregado          \n",
              "780999                                   GO  Segurado Especial     \n",
              "781000  Zerada                               Segurado Especial     \n",
              "781001                                   TO  Segurado Especial     \n",
              "781002                                   PA  Segurado Especial     \n",
              "\n",
              "                         UF  Qt SM RMI  \n",
              "0       Alagoas                    1.0  \n",
              "1       Alagoas                    1.0  \n",
              "2       Alagoas                    1.1  \n",
              "3       Alagoas                    1.0  \n",
              "4       Alagoas                    1.0  \n",
              "...                     ...        ...  \n",
              "780998  Amapá                      1.0  \n",
              "780999  Rondônia                   1.0  \n",
              "781000  Rondônia                   1.0  \n",
              "781001  Rondônia                   1.0  \n",
              "781002  Rondônia                   1.0  \n",
              "\n",
              "[781003 rows x 11 columns]"
            ],
            "text/html": [
              "\n",
              "  <div id=\"df-0f6a5cad-0b5d-4cd2-83a2-d91f87c5803e\">\n",
              "    <div class=\"colab-df-container\">\n",
              "      <div>\n",
              "<style scoped>\n",
              "    .dataframe tbody tr th:only-of-type {\n",
              "        vertical-align: middle;\n",
              "    }\n",
              "\n",
              "    .dataframe tbody tr th {\n",
              "        vertical-align: top;\n",
              "    }\n",
              "\n",
              "    .dataframe thead th {\n",
              "        text-align: right;\n",
              "    }\n",
              "</style>\n",
              "<table border=\"1\" class=\"dataframe\">\n",
              "  <thead>\n",
              "    <tr style=\"text-align: right;\">\n",
              "      <th></th>\n",
              "      <th>Competência concessão</th>\n",
              "      <th>Espécie</th>\n",
              "      <th>CID</th>\n",
              "      <th>Dt Nascimento</th>\n",
              "      <th>Sexo</th>\n",
              "      <th>Clientela</th>\n",
              "      <th>Mun Resid</th>\n",
              "      <th>UF Resid</th>\n",
              "      <th>Forma Filiação</th>\n",
              "      <th>UF</th>\n",
              "      <th>Qt SM RMI</th>\n",
              "    </tr>\n",
              "  </thead>\n",
              "  <tbody>\n",
              "    <tr>\n",
              "      <th>0</th>\n",
              "      <td>202201</td>\n",
              "      <td>Auxílio Doenca Previdenciário</td>\n",
              "      <td>Em Branco</td>\n",
              "      <td>1965-05-25</td>\n",
              "      <td>Masculino</td>\n",
              "      <td>Rural</td>\n",
              "      <td>Maceió</td>\n",
              "      <td>AL</td>\n",
              "      <td>Segurado Especial</td>\n",
              "      <td>Alagoas</td>\n",
              "      <td>1.0</td>\n",
              "    </tr>\n",
              "    <tr>\n",
              "      <th>1</th>\n",
              "      <td>202201</td>\n",
              "      <td>Auxílio Doenca Previdenciário</td>\n",
              "      <td>Em Branco</td>\n",
              "      <td>1970-09-25</td>\n",
              "      <td>Masculino</td>\n",
              "      <td>Urbano</td>\n",
              "      <td>Maceió</td>\n",
              "      <td>AL</td>\n",
              "      <td>Autônomo</td>\n",
              "      <td>Alagoas</td>\n",
              "      <td>1.0</td>\n",
              "    </tr>\n",
              "    <tr>\n",
              "      <th>2</th>\n",
              "      <td>202201</td>\n",
              "      <td>Auxílio Doenca Previdenciário</td>\n",
              "      <td>Em Branco</td>\n",
              "      <td>1977-05-16</td>\n",
              "      <td>Feminino</td>\n",
              "      <td>Urbano</td>\n",
              "      <td>Maceió</td>\n",
              "      <td>AL</td>\n",
              "      <td>Autônomo</td>\n",
              "      <td>Alagoas</td>\n",
              "      <td>1.1</td>\n",
              "    </tr>\n",
              "    <tr>\n",
              "      <th>3</th>\n",
              "      <td>202201</td>\n",
              "      <td>Aposentadoria por Tempo de Contribuição</td>\n",
              "      <td>Zerados</td>\n",
              "      <td>1966-03-12</td>\n",
              "      <td>Masculino</td>\n",
              "      <td>Urbano</td>\n",
              "      <td>Maceió</td>\n",
              "      <td>AL</td>\n",
              "      <td>Desempregado</td>\n",
              "      <td>Alagoas</td>\n",
              "      <td>1.0</td>\n",
              "    </tr>\n",
              "    <tr>\n",
              "      <th>4</th>\n",
              "      <td>202201</td>\n",
              "      <td>Auxílio Doenca Previdenciário</td>\n",
              "      <td>Em Branco</td>\n",
              "      <td>1974-06-14</td>\n",
              "      <td>Masculino</td>\n",
              "      <td>Rural</td>\n",
              "      <td>Piaçabuçu</td>\n",
              "      <td>AL</td>\n",
              "      <td>Segurado Especial</td>\n",
              "      <td>Alagoas</td>\n",
              "      <td>1.0</td>\n",
              "    </tr>\n",
              "    <tr>\n",
              "      <th>...</th>\n",
              "      <td>...</td>\n",
              "      <td>...</td>\n",
              "      <td>...</td>\n",
              "      <td>...</td>\n",
              "      <td>...</td>\n",
              "      <td>...</td>\n",
              "      <td>...</td>\n",
              "      <td>...</td>\n",
              "      <td>...</td>\n",
              "      <td>...</td>\n",
              "      <td>...</td>\n",
              "    </tr>\n",
              "    <tr>\n",
              "      <th>780998</th>\n",
              "      <td>202212</td>\n",
              "      <td>Amp. Social Pessoa Portadora Deficiencia</td>\n",
              "      <td>Zerados</td>\n",
              "      <td>2012-07-08</td>\n",
              "      <td>Masculino</td>\n",
              "      <td>Urbano</td>\n",
              "      <td>Tangará da Serra</td>\n",
              "      <td>MT</td>\n",
              "      <td>Desempregado</td>\n",
              "      <td>Amapá</td>\n",
              "      <td>1.0</td>\n",
              "    </tr>\n",
              "    <tr>\n",
              "      <th>780999</th>\n",
              "      <td>202212</td>\n",
              "      <td>Aposentadoria por Idade</td>\n",
              "      <td>Zerados</td>\n",
              "      <td>1961-03-10</td>\n",
              "      <td>Masculino</td>\n",
              "      <td>Rural</td>\n",
              "      <td>Bela Vista de Goiás</td>\n",
              "      <td>GO</td>\n",
              "      <td>Segurado Especial</td>\n",
              "      <td>Rondônia</td>\n",
              "      <td>1.0</td>\n",
              "    </tr>\n",
              "    <tr>\n",
              "      <th>781000</th>\n",
              "      <td>202212</td>\n",
              "      <td>Aposentadoria por Idade</td>\n",
              "      <td>Zerados</td>\n",
              "      <td>1960-07-16</td>\n",
              "      <td>Masculino</td>\n",
              "      <td>Rural</td>\n",
              "      <td>NaN</td>\n",
              "      <td>Zerada</td>\n",
              "      <td>Segurado Especial</td>\n",
              "      <td>Rondônia</td>\n",
              "      <td>1.0</td>\n",
              "    </tr>\n",
              "    <tr>\n",
              "      <th>781001</th>\n",
              "      <td>202212</td>\n",
              "      <td>Aposentadoria por Idade</td>\n",
              "      <td>Zerados</td>\n",
              "      <td>1957-09-07</td>\n",
              "      <td>Feminino</td>\n",
              "      <td>Rural</td>\n",
              "      <td>Nazaré</td>\n",
              "      <td>TO</td>\n",
              "      <td>Segurado Especial</td>\n",
              "      <td>Rondônia</td>\n",
              "      <td>1.0</td>\n",
              "    </tr>\n",
              "    <tr>\n",
              "      <th>781002</th>\n",
              "      <td>202212</td>\n",
              "      <td>Aposentadoria por Idade</td>\n",
              "      <td>Zerados</td>\n",
              "      <td>1964-12-06</td>\n",
              "      <td>Feminino</td>\n",
              "      <td>Rural</td>\n",
              "      <td>Ananindeua</td>\n",
              "      <td>PA</td>\n",
              "      <td>Segurado Especial</td>\n",
              "      <td>Rondônia</td>\n",
              "      <td>1.0</td>\n",
              "    </tr>\n",
              "  </tbody>\n",
              "</table>\n",
              "<p>781003 rows × 11 columns</p>\n",
              "</div>\n",
              "      <button class=\"colab-df-convert\" onclick=\"convertToInteractive('df-0f6a5cad-0b5d-4cd2-83a2-d91f87c5803e')\"\n",
              "              title=\"Convert this dataframe to an interactive table.\"\n",
              "              style=\"display:none;\">\n",
              "        \n",
              "  <svg xmlns=\"http://www.w3.org/2000/svg\" height=\"24px\"viewBox=\"0 0 24 24\"\n",
              "       width=\"24px\">\n",
              "    <path d=\"M0 0h24v24H0V0z\" fill=\"none\"/>\n",
              "    <path d=\"M18.56 5.44l.94 2.06.94-2.06 2.06-.94-2.06-.94-.94-2.06-.94 2.06-2.06.94zm-11 1L8.5 8.5l.94-2.06 2.06-.94-2.06-.94L8.5 2.5l-.94 2.06-2.06.94zm10 10l.94 2.06.94-2.06 2.06-.94-2.06-.94-.94-2.06-.94 2.06-2.06.94z\"/><path d=\"M17.41 7.96l-1.37-1.37c-.4-.4-.92-.59-1.43-.59-.52 0-1.04.2-1.43.59L10.3 9.45l-7.72 7.72c-.78.78-.78 2.05 0 2.83L4 21.41c.39.39.9.59 1.41.59.51 0 1.02-.2 1.41-.59l7.78-7.78 2.81-2.81c.8-.78.8-2.07 0-2.86zM5.41 20L4 18.59l7.72-7.72 1.47 1.35L5.41 20z\"/>\n",
              "  </svg>\n",
              "      </button>\n",
              "      \n",
              "  <style>\n",
              "    .colab-df-container {\n",
              "      display:flex;\n",
              "      flex-wrap:wrap;\n",
              "      gap: 12px;\n",
              "    }\n",
              "\n",
              "    .colab-df-convert {\n",
              "      background-color: #E8F0FE;\n",
              "      border: none;\n",
              "      border-radius: 50%;\n",
              "      cursor: pointer;\n",
              "      display: none;\n",
              "      fill: #1967D2;\n",
              "      height: 32px;\n",
              "      padding: 0 0 0 0;\n",
              "      width: 32px;\n",
              "    }\n",
              "\n",
              "    .colab-df-convert:hover {\n",
              "      background-color: #E2EBFA;\n",
              "      box-shadow: 0px 1px 2px rgba(60, 64, 67, 0.3), 0px 1px 3px 1px rgba(60, 64, 67, 0.15);\n",
              "      fill: #174EA6;\n",
              "    }\n",
              "\n",
              "    [theme=dark] .colab-df-convert {\n",
              "      background-color: #3B4455;\n",
              "      fill: #D2E3FC;\n",
              "    }\n",
              "\n",
              "    [theme=dark] .colab-df-convert:hover {\n",
              "      background-color: #434B5C;\n",
              "      box-shadow: 0px 1px 3px 1px rgba(0, 0, 0, 0.15);\n",
              "      filter: drop-shadow(0px 1px 2px rgba(0, 0, 0, 0.3));\n",
              "      fill: #FFFFFF;\n",
              "    }\n",
              "  </style>\n",
              "\n",
              "      <script>\n",
              "        const buttonEl =\n",
              "          document.querySelector('#df-0f6a5cad-0b5d-4cd2-83a2-d91f87c5803e button.colab-df-convert');\n",
              "        buttonEl.style.display =\n",
              "          google.colab.kernel.accessAllowed ? 'block' : 'none';\n",
              "\n",
              "        async function convertToInteractive(key) {\n",
              "          const element = document.querySelector('#df-0f6a5cad-0b5d-4cd2-83a2-d91f87c5803e');\n",
              "          const dataTable =\n",
              "            await google.colab.kernel.invokeFunction('convertToInteractive',\n",
              "                                                     [key], {});\n",
              "          if (!dataTable) return;\n",
              "\n",
              "          const docLinkHtml = 'Like what you see? Visit the ' +\n",
              "            '<a target=\"_blank\" href=https://colab.research.google.com/notebooks/data_table.ipynb>data table notebook</a>'\n",
              "            + ' to learn more about interactive tables.';\n",
              "          element.innerHTML = '';\n",
              "          dataTable['output_type'] = 'display_data';\n",
              "          await google.colab.output.renderOutput(dataTable, element);\n",
              "          const docLink = document.createElement('div');\n",
              "          docLink.innerHTML = docLinkHtml;\n",
              "          element.appendChild(docLink);\n",
              "        }\n",
              "      </script>\n",
              "    </div>\n",
              "  </div>\n",
              "  "
            ]
          },
          "metadata": {},
          "execution_count": 136
        }
      ],
      "source": [
        "#Criando um novo Dataframe e juntando os DF anteriores\n",
        "#df_ben = pd.concat([df_ben, df_ben2, df_ben3, df_ben4], ignore_index=True)\n",
        "#df_ben.head() \n",
        "df_ben[:-5]"
      ]
    },
    {
      "cell_type": "markdown",
      "metadata": {
        "id": "mBYYBB0CzBJH"
      },
      "source": [
        "### 2.3 - ANÁLISE INICIAL DOS DADOS\n"
      ]
    },
    {
      "cell_type": "code",
      "execution_count": 137,
      "metadata": {
        "colab": {
          "base_uri": "https://localhost:8080/"
        },
        "id": "5xodjYQ63tkd",
        "outputId": "6aff4832-7094-4d55-be21-b1a57232f938"
      },
      "outputs": [
        {
          "output_type": "stream",
          "name": "stdout",
          "text": [
            "<class 'pandas.core.frame.DataFrame'>\n",
            "RangeIndex: 781008 entries, 0 to 781007\n",
            "Data columns (total 11 columns):\n",
            " #   Column                 Non-Null Count   Dtype         \n",
            "---  ------                 --------------   -----         \n",
            " 0   Competência concessão  781008 non-null  int64         \n",
            " 1   Espécie                781008 non-null  object        \n",
            " 2   CID                    781008 non-null  object        \n",
            " 3   Dt Nascimento          781008 non-null  datetime64[ns]\n",
            " 4   Sexo                   781008 non-null  object        \n",
            " 5   Clientela              781008 non-null  object        \n",
            " 6   Mun Resid              771670 non-null  object        \n",
            " 7   UF Resid               780882 non-null  object        \n",
            " 8   Forma Filiação         781008 non-null  object        \n",
            " 9   UF                     781008 non-null  object        \n",
            " 10  Qt SM RMI              781008 non-null  float64       \n",
            "dtypes: datetime64[ns](1), float64(1), int64(1), object(8)\n",
            "memory usage: 65.5+ MB\n"
          ]
        }
      ],
      "source": [
        "#Buscando as informações Básicas do DF: quantidade de linhas e colunas, os tipos de dados de cada coluna, etc.\n",
        "df_ben.info()"
      ]
    },
    {
      "cell_type": "code",
      "execution_count": 138,
      "metadata": {
        "colab": {
          "base_uri": "https://localhost:8080/"
        },
        "id": "oB48l2dDAqKr",
        "outputId": "6346638a-852c-41e6-bba0-cdd03d656f37"
      },
      "outputs": [
        {
          "output_type": "execute_result",
          "data": {
            "text/plain": [
              "Competência concessão       0\n",
              "Espécie                     0\n",
              "CID                         0\n",
              "Dt Nascimento               0\n",
              "Sexo                        0\n",
              "Clientela                   0\n",
              "Mun Resid                9338\n",
              "UF Resid                  126\n",
              "Forma Filiação              0\n",
              "UF                          0\n",
              "Qt SM RMI                   0\n",
              "dtype: int64"
            ]
          },
          "metadata": {},
          "execution_count": 138
        }
      ],
      "source": [
        "#Verificar todos os valores nulos do DF\n",
        "df_ben.isnull().sum()"
      ]
    },
    {
      "cell_type": "code",
      "execution_count": 139,
      "metadata": {
        "colab": {
          "base_uri": "https://localhost:8080/"
        },
        "id": "8DnhVNJt17M_",
        "outputId": "f5a136b8-2256-4a80-c1fe-6a8090e0373d"
      },
      "outputs": [
        {
          "output_type": "execute_result",
          "data": {
            "text/plain": [
              "Competência concessão       0\n",
              "Espécie                     0\n",
              "CID                         0\n",
              "Dt Nascimento               0\n",
              "Sexo                        0\n",
              "Clientela                   0\n",
              "Mun Resid                9338\n",
              "UF Resid                  126\n",
              "Forma Filiação              0\n",
              "UF                          0\n",
              "Qt SM RMI                   0\n",
              "dtype: int64"
            ]
          },
          "metadata": {},
          "execution_count": 139
        }
      ],
      "source": [
        "#Verificar todos os valores NA do DF\n",
        "df_ben.isna().sum()"
      ]
    },
    {
      "cell_type": "code",
      "execution_count": 140,
      "metadata": {
        "colab": {
          "base_uri": "https://localhost:8080/"
        },
        "id": "KjF1QNKFC1cv",
        "outputId": "74c3a834-22a2-406e-df51-23f3584bf676"
      },
      "outputs": [
        {
          "output_type": "execute_result",
          "data": {
            "text/plain": [
              "array([202201, 202202, 202203, 202204, 202205, 202206, 202207, 202208,\n",
              "       202209, 202210, 202211, 202212])"
            ]
          },
          "metadata": {},
          "execution_count": 140
        }
      ],
      "source": [
        "df_ben['Competência concessão'].unique()"
      ]
    },
    {
      "cell_type": "markdown",
      "source": [
        "No Dataframe, existe **11 atributos (colunas) e 781003 linhas**.\n",
        "9.464 valores NA ou nulos no atributo Mun Resid e UF Resid.\n",
        "Quase todos os atributos são object, com exceção de Competência concessão que é int, Dt Nascimento que é datetime e Qt SM RMI que é float. Deve ser trocado o tipo do atributo Competência concessão para não haver cálculo com os meses do ano, e a extração do ano de nascimento para que possamos calcular a idade do segurado."
      ],
      "metadata": {
        "id": "qXTEcRh1sz0R"
      }
    },
    {
      "cell_type": "markdown",
      "metadata": {
        "id": "GuQI2IJm0u9S"
      },
      "source": [
        "## 3 - PRÉ-PROCESSAMENTO\n",
        "\n",
        "---\n",
        "\n"
      ]
    },
    {
      "cell_type": "markdown",
      "metadata": {
        "id": "qrVLhWbh0Tgs"
      },
      "source": [
        "### 3.1 - LIMPEZA DE DADOS"
      ]
    },
    {
      "cell_type": "markdown",
      "source": [
        "Aqui iremos tratar limpar os dados, retirando linhas com nulos, retirando colunas que não serão utilizadas, mudando tipos de atributos, trocando nomes de atributos, apagando espaços em branco dos dados, etc."
      ],
      "metadata": {
        "id": "4dyxL02ce-C4"
      }
    },
    {
      "cell_type": "code",
      "execution_count": 141,
      "metadata": {
        "colab": {
          "base_uri": "https://localhost:8080/"
        },
        "id": "hO614nRnA4U-",
        "outputId": "bd0942c1-dbe5-47bd-e123-ba9b55cbc18f"
      },
      "outputs": [
        {
          "output_type": "execute_result",
          "data": {
            "text/plain": [
              "Index(['Competência concessão', 'Espécie', 'CID', 'Dt Nascimento', 'Sexo',\n",
              "       'Clientela', 'Mun Resid', 'UF Resid', 'Forma Filiação', 'UF',\n",
              "       'Qt SM RMI'],\n",
              "      dtype='object')"
            ]
          },
          "metadata": {},
          "execution_count": 141
        }
      ],
      "source": [
        "##Apagar coluna Mun. Resid\n",
        "#df_ben = df_ben.drop(columns=['Mun. Resid.'])\n",
        "#Mostra os atributos do DF\n",
        "df_ben.columns"
      ]
    },
    {
      "cell_type": "code",
      "source": [
        "#Mudando o atributo Dt Nascimento para ano, para calcular a Idade do Segurado\n",
        "#df_ben['Dt Nascimento'].dtype()\n",
        "#df_ben['Dt Nascimento'] = df_ben['Dt Nascimento'].astype(datetime)\n",
        "df_ben['Dt Nascimento'] = df_ben['Dt Nascimento'].dt.year\n",
        "idade = 2022 - (df_ben['Dt Nascimento'])\n",
        "df_ben['Dt Nascimento'] = idade\n",
        "df_ben['Dt Nascimento'].describe()\n",
        "#df_ben['Dt Nascimento'].unique()"
      ],
      "metadata": {
        "colab": {
          "base_uri": "https://localhost:8080/"
        },
        "id": "ZGWKyq6EyABz",
        "outputId": "501c4160-c609-47e3-fcda-8913b5f932c6"
      },
      "execution_count": 142,
      "outputs": [
        {
          "output_type": "execute_result",
          "data": {
            "text/plain": [
              "count    781008.000000\n",
              "mean         50.754101\n",
              "std          15.684480\n",
              "min           0.000000\n",
              "25%          42.000000\n",
              "50%          56.000000\n",
              "75%          62.000000\n",
              "max         118.000000\n",
              "Name: Dt Nascimento, dtype: float64"
            ]
          },
          "metadata": {},
          "execution_count": 142
        }
      ]
    },
    {
      "cell_type": "code",
      "execution_count": 143,
      "metadata": {
        "colab": {
          "base_uri": "https://localhost:8080/"
        },
        "id": "kOwfroA_2k8H",
        "outputId": "e61a6ca0-4e7f-406e-bc06-f3ce9efc8ad9"
      },
      "outputs": [
        {
          "output_type": "execute_result",
          "data": {
            "text/plain": [
              "Index(['Competência', 'Espécie', 'CID', 'Idade', 'Sexo', 'Zona', 'Mun Resid',\n",
              "       'UF Resid', 'Filiação', 'UF', 'Qt SM RMI'],\n",
              "      dtype='object')"
            ]
          },
          "metadata": {},
          "execution_count": 143
        }
      ],
      "source": [
        "#Trocando os nomes das colunas\n",
        "df_ben = df_ben.rename(columns={'Competência concessão':'Competência','Dt Nascimento':'Idade','Clientela':'Zona','Forma Filiação':'Filiação'})\n",
        "df_ben.columns"
      ]
    },
    {
      "cell_type": "code",
      "execution_count": 144,
      "metadata": {
        "id": "56YjV-nO-9_0"
      },
      "outputs": [],
      "source": [
        "#Apaga espaços em branco no inicio e fim da linha conforme coluna\n",
        "df_ben['Espécie'] = df_ben['Espécie'].str.strip()\n",
        "df_ben['CID'] = df_ben['CID'].str.strip()\n",
        "df_ben['Sexo'] = df_ben['Sexo'].str.strip()\n",
        "df_ben['Zona'] = df_ben['Zona'].str.strip()"
      ]
    },
    {
      "cell_type": "code",
      "execution_count": 145,
      "metadata": {
        "colab": {
          "base_uri": "https://localhost:8080/"
        },
        "id": "CB71XCuP4E7e",
        "outputId": "0e435aa8-7ea5-41ac-ee20-c0d5939a7539"
      },
      "outputs": [
        {
          "output_type": "execute_result",
          "data": {
            "text/plain": [
              "(771670, 11)"
            ]
          },
          "metadata": {},
          "execution_count": 145
        }
      ],
      "source": [
        "#Apaga todas as linhas que tenham valor NaN (Missings)\n",
        "df_ben = df_ben.dropna()\n",
        "#df_ben.isna().sum()\n",
        "df_ben.shape"
      ]
    },
    {
      "cell_type": "markdown",
      "source": [
        "É necessário que o atributo Competência seja alterado para String e seja retirado o ano constante nas linhas do atributo, já que todos os benefícios são de 2022."
      ],
      "metadata": {
        "id": "ds2xr52xlFpe"
      }
    },
    {
      "cell_type": "code",
      "execution_count": 146,
      "metadata": {
        "colab": {
          "base_uri": "https://localhost:8080/"
        },
        "id": "ahebaYnG8RHI",
        "outputId": "d59dd4a7-60f5-4588-adfe-93c515b0ac2a"
      },
      "outputs": [
        {
          "output_type": "stream",
          "name": "stdout",
          "text": [
            "<class 'pandas.core.frame.DataFrame'>\n",
            "Int64Index: 771670 entries, 0 to 781007\n",
            "Data columns (total 11 columns):\n",
            " #   Column       Non-Null Count   Dtype  \n",
            "---  ------       --------------   -----  \n",
            " 0   Competência  771670 non-null  object \n",
            " 1   Espécie      771670 non-null  object \n",
            " 2   CID          771670 non-null  object \n",
            " 3   Idade        771670 non-null  int64  \n",
            " 4   Sexo         771670 non-null  object \n",
            " 5   Zona         771670 non-null  object \n",
            " 6   Mun Resid    771670 non-null  object \n",
            " 7   UF Resid     771670 non-null  object \n",
            " 8   Filiação     771670 non-null  object \n",
            " 9   UF           771670 non-null  object \n",
            " 10  Qt SM RMI    771670 non-null  float64\n",
            "dtypes: float64(1), int64(1), object(9)\n",
            "memory usage: 70.6+ MB\n",
            "['01' '02' '03' '04' '05' '06' '07' '08' '09' '10' '11' '12']\n"
          ]
        }
      ],
      "source": [
        "#Muda o Tipo da coluna competencia para Objeto (String) \n",
        "df_ben['Competência'] = df_ben['Competência'].astype(str)\n",
        "df_ben['Competência'] = df_ben['Competência'].str.replace('2022','')\n",
        "df_ben.info()\n",
        "list_competencia = df_ben['Competência'].unique()\n",
        "print(list_competencia)"
      ]
    },
    {
      "cell_type": "markdown",
      "source": [
        "Foram realizadas as limpezas necessárias para trabalhar com o Dataset: com eliminação das linhas que possui missing, alteração de tipo de atributo e apagando espaços em branco nos valores do Dataset. "
      ],
      "metadata": {
        "id": "hS0rtzNdBuBC"
      }
    },
    {
      "cell_type": "markdown",
      "source": [
        "### 3.2 - Resumo Estatístico"
      ],
      "metadata": {
        "id": "wtXNMYwxRE-Z"
      }
    },
    {
      "cell_type": "code",
      "source": [
        "#Descobrindo a moda do DataFrame\n",
        "df_ben.mode()"
      ],
      "metadata": {
        "colab": {
          "base_uri": "https://localhost:8080/",
          "height": 159
        },
        "id": "UJ5Zym9b2OGf",
        "outputId": "cc5856da-c0de-4f5b-bbbd-68f5d0e4078e"
      },
      "execution_count": 147,
      "outputs": [
        {
          "output_type": "execute_result",
          "data": {
            "text/plain": [
              "  Competência                  Espécie      CID  Idade      Sexo    Zona  \\\n",
              "0          08  Aposentadoria por Idade  Zerados     56  Feminino  Urbano   \n",
              "\n",
              "                          Mun Resid UF Resid             Filiação  \\\n",
              "0  São Paulo                              BA  Segurado Especial     \n",
              "\n",
              "                    UF  Qt SM RMI  \n",
              "0  Bahia                      1.0  "
            ],
            "text/html": [
              "\n",
              "  <div id=\"df-06d974a1-16b2-40a0-ba38-aea7fc31c3f1\">\n",
              "    <div class=\"colab-df-container\">\n",
              "      <div>\n",
              "<style scoped>\n",
              "    .dataframe tbody tr th:only-of-type {\n",
              "        vertical-align: middle;\n",
              "    }\n",
              "\n",
              "    .dataframe tbody tr th {\n",
              "        vertical-align: top;\n",
              "    }\n",
              "\n",
              "    .dataframe thead th {\n",
              "        text-align: right;\n",
              "    }\n",
              "</style>\n",
              "<table border=\"1\" class=\"dataframe\">\n",
              "  <thead>\n",
              "    <tr style=\"text-align: right;\">\n",
              "      <th></th>\n",
              "      <th>Competência</th>\n",
              "      <th>Espécie</th>\n",
              "      <th>CID</th>\n",
              "      <th>Idade</th>\n",
              "      <th>Sexo</th>\n",
              "      <th>Zona</th>\n",
              "      <th>Mun Resid</th>\n",
              "      <th>UF Resid</th>\n",
              "      <th>Filiação</th>\n",
              "      <th>UF</th>\n",
              "      <th>Qt SM RMI</th>\n",
              "    </tr>\n",
              "  </thead>\n",
              "  <tbody>\n",
              "    <tr>\n",
              "      <th>0</th>\n",
              "      <td>08</td>\n",
              "      <td>Aposentadoria por Idade</td>\n",
              "      <td>Zerados</td>\n",
              "      <td>56</td>\n",
              "      <td>Feminino</td>\n",
              "      <td>Urbano</td>\n",
              "      <td>São Paulo</td>\n",
              "      <td>BA</td>\n",
              "      <td>Segurado Especial</td>\n",
              "      <td>Bahia</td>\n",
              "      <td>1.0</td>\n",
              "    </tr>\n",
              "  </tbody>\n",
              "</table>\n",
              "</div>\n",
              "      <button class=\"colab-df-convert\" onclick=\"convertToInteractive('df-06d974a1-16b2-40a0-ba38-aea7fc31c3f1')\"\n",
              "              title=\"Convert this dataframe to an interactive table.\"\n",
              "              style=\"display:none;\">\n",
              "        \n",
              "  <svg xmlns=\"http://www.w3.org/2000/svg\" height=\"24px\"viewBox=\"0 0 24 24\"\n",
              "       width=\"24px\">\n",
              "    <path d=\"M0 0h24v24H0V0z\" fill=\"none\"/>\n",
              "    <path d=\"M18.56 5.44l.94 2.06.94-2.06 2.06-.94-2.06-.94-.94-2.06-.94 2.06-2.06.94zm-11 1L8.5 8.5l.94-2.06 2.06-.94-2.06-.94L8.5 2.5l-.94 2.06-2.06.94zm10 10l.94 2.06.94-2.06 2.06-.94-2.06-.94-.94-2.06-.94 2.06-2.06.94z\"/><path d=\"M17.41 7.96l-1.37-1.37c-.4-.4-.92-.59-1.43-.59-.52 0-1.04.2-1.43.59L10.3 9.45l-7.72 7.72c-.78.78-.78 2.05 0 2.83L4 21.41c.39.39.9.59 1.41.59.51 0 1.02-.2 1.41-.59l7.78-7.78 2.81-2.81c.8-.78.8-2.07 0-2.86zM5.41 20L4 18.59l7.72-7.72 1.47 1.35L5.41 20z\"/>\n",
              "  </svg>\n",
              "      </button>\n",
              "      \n",
              "  <style>\n",
              "    .colab-df-container {\n",
              "      display:flex;\n",
              "      flex-wrap:wrap;\n",
              "      gap: 12px;\n",
              "    }\n",
              "\n",
              "    .colab-df-convert {\n",
              "      background-color: #E8F0FE;\n",
              "      border: none;\n",
              "      border-radius: 50%;\n",
              "      cursor: pointer;\n",
              "      display: none;\n",
              "      fill: #1967D2;\n",
              "      height: 32px;\n",
              "      padding: 0 0 0 0;\n",
              "      width: 32px;\n",
              "    }\n",
              "\n",
              "    .colab-df-convert:hover {\n",
              "      background-color: #E2EBFA;\n",
              "      box-shadow: 0px 1px 2px rgba(60, 64, 67, 0.3), 0px 1px 3px 1px rgba(60, 64, 67, 0.15);\n",
              "      fill: #174EA6;\n",
              "    }\n",
              "\n",
              "    [theme=dark] .colab-df-convert {\n",
              "      background-color: #3B4455;\n",
              "      fill: #D2E3FC;\n",
              "    }\n",
              "\n",
              "    [theme=dark] .colab-df-convert:hover {\n",
              "      background-color: #434B5C;\n",
              "      box-shadow: 0px 1px 3px 1px rgba(0, 0, 0, 0.15);\n",
              "      filter: drop-shadow(0px 1px 2px rgba(0, 0, 0, 0.3));\n",
              "      fill: #FFFFFF;\n",
              "    }\n",
              "  </style>\n",
              "\n",
              "      <script>\n",
              "        const buttonEl =\n",
              "          document.querySelector('#df-06d974a1-16b2-40a0-ba38-aea7fc31c3f1 button.colab-df-convert');\n",
              "        buttonEl.style.display =\n",
              "          google.colab.kernel.accessAllowed ? 'block' : 'none';\n",
              "\n",
              "        async function convertToInteractive(key) {\n",
              "          const element = document.querySelector('#df-06d974a1-16b2-40a0-ba38-aea7fc31c3f1');\n",
              "          const dataTable =\n",
              "            await google.colab.kernel.invokeFunction('convertToInteractive',\n",
              "                                                     [key], {});\n",
              "          if (!dataTable) return;\n",
              "\n",
              "          const docLinkHtml = 'Like what you see? Visit the ' +\n",
              "            '<a target=\"_blank\" href=https://colab.research.google.com/notebooks/data_table.ipynb>data table notebook</a>'\n",
              "            + ' to learn more about interactive tables.';\n",
              "          element.innerHTML = '';\n",
              "          dataTable['output_type'] = 'display_data';\n",
              "          await google.colab.output.renderOutput(dataTable, element);\n",
              "          const docLink = document.createElement('div');\n",
              "          docLink.innerHTML = docLinkHtml;\n",
              "          element.appendChild(docLink);\n",
              "        }\n",
              "      </script>\n",
              "    </div>\n",
              "  </div>\n",
              "  "
            ]
          },
          "metadata": {},
          "execution_count": 147
        }
      ]
    },
    {
      "cell_type": "markdown",
      "source": [
        "Podemos verificar que a competencia com mais processos concedidos é o mês de **agosto**, a Espécie é **Aposentadoria por Idade**, a maioria dos segurados posuem **56 anos**,a maioria dos benefícios são de **mulheres**, a maioria dos benefícios são da zona **Urbana**, o município que a maioria dos segurdos residem é **São Paulo**, mas o estado é da **Bahia**, tanto em residência como em estado que concedeu mais processos, e a maioria dos benefícios são concedidos com **salário mínimo**."
      ],
      "metadata": {
        "id": "kKemzXNFigJo"
      }
    },
    {
      "cell_type": "code",
      "execution_count": 148,
      "metadata": {
        "colab": {
          "base_uri": "https://localhost:8080/",
          "height": 300
        },
        "id": "CjB5YC4nDqDr",
        "outputId": "862a92a5-31a6-4e8f-c444-c6461ac45169"
      },
      "outputs": [
        {
          "output_type": "execute_result",
          "data": {
            "text/plain": [
              "               Idade      Qt SM RMI\n",
              "count  771670.000000  771670.000000\n",
              "mean       50.764877       1.236735\n",
              "std        15.690926       0.699224\n",
              "min         0.000000       0.001000\n",
              "25%        42.000000       1.000000\n",
              "50%        56.000000       1.000000\n",
              "75%        62.000000       1.018000\n",
              "max       118.000000      29.422000"
            ],
            "text/html": [
              "\n",
              "  <div id=\"df-223faaa8-bea8-4141-ad37-ea2e5dd5e3ed\">\n",
              "    <div class=\"colab-df-container\">\n",
              "      <div>\n",
              "<style scoped>\n",
              "    .dataframe tbody tr th:only-of-type {\n",
              "        vertical-align: middle;\n",
              "    }\n",
              "\n",
              "    .dataframe tbody tr th {\n",
              "        vertical-align: top;\n",
              "    }\n",
              "\n",
              "    .dataframe thead th {\n",
              "        text-align: right;\n",
              "    }\n",
              "</style>\n",
              "<table border=\"1\" class=\"dataframe\">\n",
              "  <thead>\n",
              "    <tr style=\"text-align: right;\">\n",
              "      <th></th>\n",
              "      <th>Idade</th>\n",
              "      <th>Qt SM RMI</th>\n",
              "    </tr>\n",
              "  </thead>\n",
              "  <tbody>\n",
              "    <tr>\n",
              "      <th>count</th>\n",
              "      <td>771670.000000</td>\n",
              "      <td>771670.000000</td>\n",
              "    </tr>\n",
              "    <tr>\n",
              "      <th>mean</th>\n",
              "      <td>50.764877</td>\n",
              "      <td>1.236735</td>\n",
              "    </tr>\n",
              "    <tr>\n",
              "      <th>std</th>\n",
              "      <td>15.690926</td>\n",
              "      <td>0.699224</td>\n",
              "    </tr>\n",
              "    <tr>\n",
              "      <th>min</th>\n",
              "      <td>0.000000</td>\n",
              "      <td>0.001000</td>\n",
              "    </tr>\n",
              "    <tr>\n",
              "      <th>25%</th>\n",
              "      <td>42.000000</td>\n",
              "      <td>1.000000</td>\n",
              "    </tr>\n",
              "    <tr>\n",
              "      <th>50%</th>\n",
              "      <td>56.000000</td>\n",
              "      <td>1.000000</td>\n",
              "    </tr>\n",
              "    <tr>\n",
              "      <th>75%</th>\n",
              "      <td>62.000000</td>\n",
              "      <td>1.018000</td>\n",
              "    </tr>\n",
              "    <tr>\n",
              "      <th>max</th>\n",
              "      <td>118.000000</td>\n",
              "      <td>29.422000</td>\n",
              "    </tr>\n",
              "  </tbody>\n",
              "</table>\n",
              "</div>\n",
              "      <button class=\"colab-df-convert\" onclick=\"convertToInteractive('df-223faaa8-bea8-4141-ad37-ea2e5dd5e3ed')\"\n",
              "              title=\"Convert this dataframe to an interactive table.\"\n",
              "              style=\"display:none;\">\n",
              "        \n",
              "  <svg xmlns=\"http://www.w3.org/2000/svg\" height=\"24px\"viewBox=\"0 0 24 24\"\n",
              "       width=\"24px\">\n",
              "    <path d=\"M0 0h24v24H0V0z\" fill=\"none\"/>\n",
              "    <path d=\"M18.56 5.44l.94 2.06.94-2.06 2.06-.94-2.06-.94-.94-2.06-.94 2.06-2.06.94zm-11 1L8.5 8.5l.94-2.06 2.06-.94-2.06-.94L8.5 2.5l-.94 2.06-2.06.94zm10 10l.94 2.06.94-2.06 2.06-.94-2.06-.94-.94-2.06-.94 2.06-2.06.94z\"/><path d=\"M17.41 7.96l-1.37-1.37c-.4-.4-.92-.59-1.43-.59-.52 0-1.04.2-1.43.59L10.3 9.45l-7.72 7.72c-.78.78-.78 2.05 0 2.83L4 21.41c.39.39.9.59 1.41.59.51 0 1.02-.2 1.41-.59l7.78-7.78 2.81-2.81c.8-.78.8-2.07 0-2.86zM5.41 20L4 18.59l7.72-7.72 1.47 1.35L5.41 20z\"/>\n",
              "  </svg>\n",
              "      </button>\n",
              "      \n",
              "  <style>\n",
              "    .colab-df-container {\n",
              "      display:flex;\n",
              "      flex-wrap:wrap;\n",
              "      gap: 12px;\n",
              "    }\n",
              "\n",
              "    .colab-df-convert {\n",
              "      background-color: #E8F0FE;\n",
              "      border: none;\n",
              "      border-radius: 50%;\n",
              "      cursor: pointer;\n",
              "      display: none;\n",
              "      fill: #1967D2;\n",
              "      height: 32px;\n",
              "      padding: 0 0 0 0;\n",
              "      width: 32px;\n",
              "    }\n",
              "\n",
              "    .colab-df-convert:hover {\n",
              "      background-color: #E2EBFA;\n",
              "      box-shadow: 0px 1px 2px rgba(60, 64, 67, 0.3), 0px 1px 3px 1px rgba(60, 64, 67, 0.15);\n",
              "      fill: #174EA6;\n",
              "    }\n",
              "\n",
              "    [theme=dark] .colab-df-convert {\n",
              "      background-color: #3B4455;\n",
              "      fill: #D2E3FC;\n",
              "    }\n",
              "\n",
              "    [theme=dark] .colab-df-convert:hover {\n",
              "      background-color: #434B5C;\n",
              "      box-shadow: 0px 1px 3px 1px rgba(0, 0, 0, 0.15);\n",
              "      filter: drop-shadow(0px 1px 2px rgba(0, 0, 0, 0.3));\n",
              "      fill: #FFFFFF;\n",
              "    }\n",
              "  </style>\n",
              "\n",
              "      <script>\n",
              "        const buttonEl =\n",
              "          document.querySelector('#df-223faaa8-bea8-4141-ad37-ea2e5dd5e3ed button.colab-df-convert');\n",
              "        buttonEl.style.display =\n",
              "          google.colab.kernel.accessAllowed ? 'block' : 'none';\n",
              "\n",
              "        async function convertToInteractive(key) {\n",
              "          const element = document.querySelector('#df-223faaa8-bea8-4141-ad37-ea2e5dd5e3ed');\n",
              "          const dataTable =\n",
              "            await google.colab.kernel.invokeFunction('convertToInteractive',\n",
              "                                                     [key], {});\n",
              "          if (!dataTable) return;\n",
              "\n",
              "          const docLinkHtml = 'Like what you see? Visit the ' +\n",
              "            '<a target=\"_blank\" href=https://colab.research.google.com/notebooks/data_table.ipynb>data table notebook</a>'\n",
              "            + ' to learn more about interactive tables.';\n",
              "          element.innerHTML = '';\n",
              "          dataTable['output_type'] = 'display_data';\n",
              "          await google.colab.output.renderOutput(dataTable, element);\n",
              "          const docLink = document.createElement('div');\n",
              "          docLink.innerHTML = docLinkHtml;\n",
              "          element.appendChild(docLink);\n",
              "        }\n",
              "      </script>\n",
              "    </div>\n",
              "  </div>\n",
              "  "
            ]
          },
          "metadata": {},
          "execution_count": 148
        }
      ],
      "source": [
        "#Verificando os valores numéricos dos atributos Idade e Qt SM RMI\n",
        "df_ben[['Idade','Qt SM RMI']].describe()"
      ]
    },
    {
      "cell_type": "code",
      "source": [
        "#Descobrindo a média das colunas Idade e Qt SM RMI do DataFrame\n",
        "df_ben[['Idade','Qt SM RMI']].mean()"
      ],
      "metadata": {
        "colab": {
          "base_uri": "https://localhost:8080/"
        },
        "id": "dQ76T92rVirS",
        "outputId": "16f9e162-92d8-4f4f-b940-1d5d7fadaede"
      },
      "execution_count": 149,
      "outputs": [
        {
          "output_type": "execute_result",
          "data": {
            "text/plain": [
              "Idade        50.764877\n",
              "Qt SM RMI     1.236735\n",
              "dtype: float64"
            ]
          },
          "metadata": {},
          "execution_count": 149
        }
      ]
    },
    {
      "cell_type": "code",
      "source": [
        "#Descobrindo o valor mínimo das colunas Idade e Qt SM RMI do DF\n",
        "df_ben[['Idade','Qt SM RMI']].min()"
      ],
      "metadata": {
        "colab": {
          "base_uri": "https://localhost:8080/"
        },
        "id": "SAWp_-z5RZaY",
        "outputId": "6e1d0850-d2f8-4f5e-accf-b4f7705c3dd6"
      },
      "execution_count": 150,
      "outputs": [
        {
          "output_type": "execute_result",
          "data": {
            "text/plain": [
              "Idade        0.000\n",
              "Qt SM RMI    0.001\n",
              "dtype: float64"
            ]
          },
          "metadata": {},
          "execution_count": 150
        }
      ]
    },
    {
      "cell_type": "code",
      "source": [
        "#Descobrindo o valor máximo das colunas Idade e Qt SM RMI do DF\n",
        "df_ben[['Idade','Qt SM RMI']].max()"
      ],
      "metadata": {
        "colab": {
          "base_uri": "https://localhost:8080/"
        },
        "id": "S9YjzX0XRomw",
        "outputId": "24bdb582-4438-4931-a605-64e8e7ceb62d"
      },
      "execution_count": 151,
      "outputs": [
        {
          "output_type": "execute_result",
          "data": {
            "text/plain": [
              "Idade        118.000\n",
              "Qt SM RMI     29.422\n",
              "dtype: float64"
            ]
          },
          "metadata": {},
          "execution_count": 151
        }
      ]
    },
    {
      "cell_type": "code",
      "source": [
        "#Descobrindo o desvio Padrão das colunas Idade e Qt SM RMI\n",
        "df_ben[['Idade','Qt SM RMI']].std()"
      ],
      "metadata": {
        "colab": {
          "base_uri": "https://localhost:8080/"
        },
        "id": "83P2H6NzaNha",
        "outputId": "97ac4411-5bf2-470f-ce1c-fce165b1f8fe"
      },
      "execution_count": 152,
      "outputs": [
        {
          "output_type": "execute_result",
          "data": {
            "text/plain": [
              "Idade        15.690926\n",
              "Qt SM RMI     0.699224\n",
              "dtype: float64"
            ]
          },
          "metadata": {},
          "execution_count": 152
        }
      ]
    },
    {
      "cell_type": "code",
      "source": [
        "#df_ben.shape"
      ],
      "metadata": {
        "id": "_3MbOBtlYjhS"
      },
      "execution_count": 153,
      "outputs": []
    },
    {
      "cell_type": "markdown",
      "source": [
        "Aqui podemos verificar as estatísticas dos atributos numéricos Idade e Qt SM RMI, sendo:\n",
        "**Idade** - Média: 50.76  Moda:  56  Min: 00   Max: 118.00 Desvio Padrão: 15.69  **Qt SM RMI**\n",
        "Média: 1.23\n",
        "Moda: 1.0\n",
        "Min:  0.001\n",
        "Max:  29.42\n",
        "Desvio Padrão: 0.692442"
      ],
      "metadata": {
        "id": "RUAjhoCUAOHU"
      }
    },
    {
      "cell_type": "markdown",
      "metadata": {
        "id": "ApwWTsUFEBa9"
      },
      "source": [
        "### 3.3 - Plotando os gráficos"
      ]
    },
    {
      "cell_type": "code",
      "execution_count": 154,
      "metadata": {
        "id": "dyUtrR4AKiVA",
        "outputId": "61287ee7-7cc4-4eda-fbb1-2ed8140df88b",
        "colab": {
          "base_uri": "https://localhost:8080/",
          "height": 489
        }
      },
      "outputs": [
        {
          "output_type": "execute_result",
          "data": {
            "text/plain": [
              "Text(0, 0.5, 'Total de Processos Concluído/Mês')"
            ]
          },
          "metadata": {},
          "execution_count": 154
        },
        {
          "output_type": "display_data",
          "data": {
            "text/plain": [
              "<Figure size 640x480 with 1 Axes>"
            ],
            "image/png": "[encoded data removed]"
          },
          "metadata": {}
        }
      ],
      "source": [
        "#Gráfico em Histograma de Total de Processos Concedidos por Mês\n",
        "ax= sns.histplot(df_ben['Competência'])\n",
        "color = ['b', 'g', 'r', 'c', 'm', 'y', 'k', 'gray','salmon','skyblue','pink','orange']\n",
        "for i in range(0,12):\n",
        "    ax.patches[i].set_facecolor(color[i])\n",
        "plt.title('Processos concluídos por mês')\n",
        "plt.xlabel('Mês de 2022')\n",
        "plt.ylabel('Total de Processos Concluído/Mês') "
      ]
    },
    {
      "cell_type": "code",
      "execution_count": 155,
      "metadata": {
        "colab": {
          "base_uri": "https://localhost:8080/",
          "height": 393
        },
        "id": "XcKoy6r2GR3p",
        "outputId": "88072b7b-8b10-41a6-f3ab-d80e4baef75a"
      },
      "outputs": [
        {
          "output_type": "execute_result",
          "data": {
            "text/plain": [
              "Text(0.5, 0, 'Mês de 2022')"
            ]
          },
          "metadata": {},
          "execution_count": 155
        },
        {
          "output_type": "display_data",
          "data": {
            "text/plain": [
              "<Figure size 1500x500 with 1 Axes>"
            ],
            "image/png": "[encoded data removed]"
          },
          "metadata": {}
        }
      ],
      "source": [
        "#Gráfico Total de Processos Concedidos por ordem de mês com a maior quantidade de benefícios concedidos\n",
        "competencia = df_ben['Competência'].value_counts() #\n",
        "competencia.plot(figsize=(15,5),kind='bar')\n",
        "plt.title('Processos concluídos por mês')\n",
        "plt.xlabel('Mês de 2022')"
      ]
    },
    {
      "cell_type": "code",
      "execution_count": 156,
      "metadata": {
        "id": "kwaeirK6KRbv"
      },
      "outputs": [],
      "source": [
        "#Gráfico de Pizza do Total de Processos Concedidos por Mês\n",
        "#competencia = df_ben['Competência'].value_counts()\n",
        "#competencia.plot(figsize=(15,5), kind='pie')\n",
        "#plt.title('Processos Concedidos por Mês')\n",
        "#plt.xlabel('Meses de 2022')"
      ]
    },
    {
      "cell_type": "markdown",
      "source": [
        "Plotado os gráficos, podemos verificar a Qtd de processos por Competência. Podemos verificar que o mês de Agosto (08) é o que tem mais processos concluídos e o mês de Janeiro (01) do menor."
      ],
      "metadata": {
        "id": "KtaHwhiZXTFG"
      }
    },
    {
      "cell_type": "code",
      "execution_count": 157,
      "metadata": {
        "id": "rxI-g0tBKiVB",
        "outputId": "3ea9c788-a656-424f-b38c-6393fbe127ec",
        "colab": {
          "base_uri": "https://localhost:8080/",
          "height": 868
        }
      },
      "outputs": [
        {
          "output_type": "display_data",
          "data": {
            "text/plain": [
              "Aposentadoria por Idade                     170119\n",
              "Auxílio Doenca Previdenciário               161831\n",
              "Aposentadoria Invalidez Previdenciária       82061\n",
              "Auxílio Salario Maternidade                  73072\n",
              "Amp. Social Pessoa Portadora Deficiencia     71368\n",
              "Aposentadoria por Tempo de Contribuição      65610\n",
              "Pensão por Morte Previdenciária              65286\n",
              "Auxílio Acidente                             25211\n",
              "Aposentadoria Especial                       15131\n",
              "Amparo Social ao Idoso                       14423\n",
              "Auxílio Acidente Previdenciário              13866\n",
              "Auxílio Reclusão                              4691\n",
              "Auxílio Doenca por Acidente do Trabalho       4216\n",
              "Aposent. Invalidez Acidente Trabalho          3116\n",
              "Aposent. Tempo de Serviço de Professor        1319\n",
              "Auxílio Suplementar Acidente Trabalho           98\n",
              "Pensão Vitalícia Dependentes Seringueiro        83\n",
              "Pensão por Morte Acidente do Trabalho           67\n",
              "Benefício Indenizatório a Cargo da União        30\n",
              "Pensão Vitalícia Seringueiros                   21\n",
              "Pensao Especial Hanseniase Lei 11520/07         17\n",
              "Pensão Vitalícia Sindrome Talidomida            17\n",
              "Pensão por Morte de Ex-Combatente                6\n",
              "Auxilio União                                    3\n",
              "Pensão por Morte Ex-Sasse                        2\n",
              "Aposentadoria por Invalidez-Trab. Rural          1\n",
              "Pensão por Morte de Anistiados                   1\n",
              "Amparo Previdenc. Invalidez- Trab. Rural         1\n",
              "Pensão Morte Servidor Público Federal            1\n",
              "Pensão por Morte Ex-Combatente Maritimo          1\n",
              "Pensão por Morte de Trabalhador Rural            1\n",
              "Name: Espécie, dtype: int64"
            ]
          },
          "metadata": {}
        },
        {
          "output_type": "display_data",
          "data": {
            "text/plain": [
              "<Figure size 1500x500 with 1 Axes>"
            ],
            "image/png": "[encoded data removed]"
          },
          "metadata": {}
        }
      ],
      "source": [
        "#Barra H do Total de Processos Concedidos por Espécies\n",
        "competencia = df_ben['Espécie'].value_counts()\n",
        "#comp1 = df_ben[df_ben['Espécie'].value_counts()< 1000]\n",
        "#print(comp1)\n",
        "competencia.plot(figsize=(15,5), kind='barh')\n",
        "plt.title('Processos Concedidos por Espécie')\n",
        "plt.xlabel('Espécies')\n",
        "display(competencia)"
      ]
    },
    {
      "cell_type": "code",
      "execution_count": 158,
      "metadata": {
        "id": "d44xjCNkIQK0",
        "colab": {
          "base_uri": "https://localhost:8080/",
          "height": 489
        },
        "outputId": "24062529-5ca9-4a2b-9888-0216e7dbaf41"
      },
      "outputs": [
        {
          "output_type": "execute_result",
          "data": {
            "text/plain": [
              "Text(0.5, 0, 'Sexo')"
            ]
          },
          "metadata": {},
          "execution_count": 158
        },
        {
          "output_type": "display_data",
          "data": {
            "text/plain": [
              "<Figure size 640x480 with 1 Axes>"
            ],
            "image/png": "[encoded data removed]"
          },
          "metadata": {}
        }
      ],
      "source": [
        "#Gráfico em Histograma de processos concluídos por Sexo\n",
        "fig, ax = plt.subplots()\n",
        "cor = ['b','r']\n",
        "ax.hist(df_ben['Sexo'], bins=2) \n",
        "for i in range(0,2):\n",
        "    ax.patches[i].set_facecolor(cor[i])\n",
        "ax.set_title('Processos Concedidos por Sexo')\n",
        "ax.set_xlabel('Sexo')"
      ]
    },
    {
      "cell_type": "code",
      "execution_count": 159,
      "metadata": {
        "id": "BpUGXUYnUY50",
        "colab": {
          "base_uri": "https://localhost:8080/",
          "height": 516
        },
        "outputId": "e0e06ce1-9d38-49ae-9587-7b5aafa047fb"
      },
      "outputs": [
        {
          "output_type": "execute_result",
          "data": {
            "text/plain": [
              "Text(0.5, 0, 'Filiação')"
            ]
          },
          "metadata": {},
          "execution_count": 159
        },
        {
          "output_type": "display_data",
          "data": {
            "text/plain": [
              "<Figure size 1400x500 with 1 Axes>"
            ],
            "image/png": "[encoded data removed]"
          },
          "metadata": {}
        }
      ],
      "source": [
        "#Gráfico do Total de Processos Concedidos por Filiação\n",
        "#df_ben['Filiação'].unique()\n",
        "filiacao = df_ben['Filiação'].value_counts()\n",
        "filiacao.plot(figsize=(14,5), kind='bar')\n",
        "plt.title('Processos Concedidos por Filiação')\n",
        "plt.xlabel('Filiação')"
      ]
    },
    {
      "cell_type": "code",
      "execution_count": 163,
      "metadata": {
        "id": "I0CeY68dVJtu",
        "colab": {
          "base_uri": "https://localhost:8080/",
          "height": 483
        },
        "outputId": "0ce9df8d-1158-45ed-cad9-e9c21071a9d8"
      },
      "outputs": [
        {
          "output_type": "execute_result",
          "data": {
            "text/plain": [
              "Text(0.5, 0, 'Estado')"
            ]
          },
          "metadata": {},
          "execution_count": 163
        },
        {
          "output_type": "display_data",
          "data": {
            "text/plain": [
              "<Figure size 1500x500 with 1 Axes>"
            ],
            "image/png": "[encoded data removed]"
          },
          "metadata": {}
        }
      ],
      "source": [
        "#Gráfico em Barra do Total de Processos Concedidos por Estado(UF)\n",
        "estado = df_ben['UF'].value_counts()\n",
        "estado.plot(figsize=(15,5), kind='bar')\n",
        "plt.title('Processos Concedidos por Estado')\n",
        "plt.xlabel('Estado')"
      ]
    },
    {
      "cell_type": "code",
      "execution_count": 161,
      "metadata": {
        "id": "uDE3HKq5T8ok",
        "colab": {
          "base_uri": "https://localhost:8080/",
          "height": 430
        },
        "outputId": "ea1cabe9-fcad-48e6-da52-a2cec660eb0b"
      },
      "outputs": [
        {
          "output_type": "display_data",
          "data": {
            "text/plain": [
              "<Figure size 640x480 with 1 Axes>"
            ],
            "image/png": "[encoded data removed]"
          },
          "metadata": {}
        }
      ],
      "source": [
        "#Gráfico em Histograma do Total de Processos Concedidos por Zona\n",
        "fig, ax = plt.subplots()\n",
        "ax.hist(df_ben['Zona'], bins=2)\n",
        "cor=['blue', 'green']\n",
        "for i in range(0,2):\n",
        "    ax.patches[i].set_facecolor(cor[i])"
      ]
    },
    {
      "cell_type": "markdown",
      "source": [
        "Podemos verificar que a maior parte dos Processos Concedidos são: da Espécie de Aposentadoria por Idade, Sexo Feminno, Filiação Segurado Especial, do Estado da Bahia e Zona Urbana."
      ],
      "metadata": {
        "id": "GkSSWiV1qqCS"
      }
    },
    {
      "cell_type": "code",
      "execution_count": null,
      "metadata": {
        "id": "c9M3x6o2LL_D"
      },
      "outputs": [],
      "source": [
        "#Gráfico de Dispersão Sexo por Qt SM RMI\n",
        "plt.scatter(df_ben['Sexo'],df_ben['Qt SM RMI'])\n",
        "plt.title('RMI x Sexo')\n",
        "plt.xlabel('Sexo')\n",
        "plt.ylabel('QTD Salário Minimo RMI')"
      ]
    },
    {
      "cell_type": "code",
      "execution_count": null,
      "metadata": {
        "id": "dV4xTpH0Niuy"
      },
      "outputs": [],
      "source": [
        "#Gráfico de Dispersão Qt SM RMI x Competência (Mês)\n",
        "plt.scatter(df_ben['Qt SM RMI'],df_ben['Competência'])\n",
        "plt.title('RMI x Mês')\n",
        "plt.xlabel('RMI')\n",
        "plt.ylabel('Mês')"
      ]
    },
    {
      "cell_type": "markdown",
      "source": [
        "O RMI do Sexo Masculino é ligeiramente maior. O SM do RMI dificil de estimar a competência em que esteve mais alta através do gráfico de Dispersão. "
      ],
      "metadata": {
        "id": "EBcSi-p-rtTY"
      }
    },
    {
      "cell_type": "code",
      "execution_count": null,
      "metadata": {
        "id": "2lSOz1ADnMMC"
      },
      "outputs": [],
      "source": [
        "#Gráfico Boxplot da Quantidade de Salário Mínimo\n",
        "sns.boxplot(data = df_ben['Qt SM RMI'])\n",
        "plt.title('Quantidade de Salário Mínimo em 2022')"
      ]
    },
    {
      "cell_type": "code",
      "execution_count": null,
      "metadata": {
        "id": "ECzVCW1NKiVC"
      },
      "outputs": [],
      "source": [
        "#Gráfico Boxplot da Média de Salário Mínimo RMI por mês\n",
        "rmi_mes = df_ben.loc[:,['Competência','Qt SM RMI']]\n",
        "rmi_mes = rmi_mes.groupby('Competência').mean()\n",
        "sns.boxplot(data = rmi_mes)\n",
        "plt.title('Média da QTD de Salário Mínimo por mês')\n",
        "display(rmi_mes.shape)"
      ]
    },
    {
      "cell_type": "code",
      "execution_count": null,
      "metadata": {
        "id": "pN1GAct7KiVC"
      },
      "outputs": [],
      "source": [
        "#Boxplots da QTD de Salário Mínimo RMI por mês\n",
        "fig, ax = plt.subplots(3,4, figsize = (12, 15),facecolor='#B3C7D6')\n",
        "\n",
        "# subplot1: boxplot\n",
        "competencia_var = df_ben['Competência'].unique()\n",
        "y = 0\n",
        "z = 0\n",
        "for i, mes in enumerate(competencia_var):\n",
        "    meses = ['Janeiro', 'Fevereiro', 'Março', 'Abril', 'Maio', 'Junho', 'Julho', 'Agosto', 'Setembro', 'Outubro', 'Novembro', 'Dezembro']\n",
        "    y= i%4\n",
        "    z= i//4\n",
        "    rmi_01 = df_ben.loc[df_ben['Competência'] == mes,['Competência','Qt SM RMI']]\n",
        "    ax[z,y].boxplot(rmi_01['Qt SM RMI'])\n",
        "    ax[z,y].set_title(f'SM em {meses[i]}')\n",
        "    #print(i,z,y)\n",
        "        "
      ]
    },
    {
      "cell_type": "code",
      "execution_count": null,
      "metadata": {
        "id": "zVuWQlftKiVC"
      },
      "outputs": [],
      "source": [
        "#Gráfico de Linhas da QTD de SM da RMI por mês\n",
        "rmi_mes.plot(figsize=(15,5), kind='line')\n",
        "plt.title('Média QTD de SM da RMI/Mês')\n",
        "plt.legend();"
      ]
    },
    {
      "cell_type": "code",
      "execution_count": null,
      "metadata": {
        "id": "HeU0Z2R5KiVC"
      },
      "outputs": [],
      "source": [
        "#Gráfico de Densidade da Média da QTD de SM da RMI\n",
        "rmi_mes.plot(figsize=(15,5), kind='kde')\n",
        "plt.title('Densidade Média do RMI')"
      ]
    },
    {
      "cell_type": "code",
      "execution_count": null,
      "metadata": {
        "id": "Aav1X8MEKiVD"
      },
      "outputs": [],
      "source": [
        "#Gráfico Barra Média de SM do RMI x Estado\n",
        "rmi_est = df_ben.loc[:,['Estado','Qt SM RMI']]\n",
        "rmi_est = rmi_est.groupby('Estado').mean()\n",
        "rmi_est.plot(figsize=(15,5), kind='bar')\n",
        "plt.title('RMI x Estado')"
      ]
    },
    {
      "cell_type": "markdown",
      "source": [
        "A maior média de SM RMI é do mês de Janeiro, e a densidade média do RMI fica entre 1.4 e 1.44. Os estados com os maiores SM RMI são DF e SP."
      ],
      "metadata": {
        "id": "TeKdTvp8sk7Y"
      }
    },
    {
      "cell_type": "code",
      "execution_count": null,
      "metadata": {
        "id": "wcMwBcwlKiVC"
      },
      "outputs": [],
      "source": [
        "#Verificando a Quantidade de Processo Concedido por tipo de Despacho, separando os sexos\n",
        "df_ben2 = df_ben[df_ben['Sexo'] == 'Masculino'].groupby('Despacho').agg({'Sexo':'count'})\n",
        "df_ben3 = df_ben[df_ben['Sexo'] == 'Feminino'].groupby('Despacho').agg({'Sexo':'count'})\n",
        "display(df_ben2)\n",
        "display(df_ben3)\n",
        "display(df_ben2.columns)"
      ]
    },
    {
      "cell_type": "code",
      "execution_count": null,
      "metadata": {
        "id": "B55GMIUnCtEX"
      },
      "outputs": [],
      "source": [
        "#Gráfico em Barras da Quantidade de Processo Concedido por tipo de Despacho, separando os sexos\n",
        "df_ben2.plot(figsize=(10,5), kind='bar',color={\"pink\"})\n",
        "plt.title('Despacho por Sexo - Feminino')\n",
        "df_ben3.plot(figsize=(10,5), kind='bar',color={\"Skyblue\"})\n",
        "plt.title('Despacho por Sexo - Masculino')"
      ]
    },
    {
      "cell_type": "markdown",
      "source": [
        "Tanto no Sexo masculino, quanto no feminino a maior parte dos benefícios são concedidos com Despacho Normal."
      ],
      "metadata": {
        "id": "itKX3cX1tM-0"
      }
    },
    {
      "cell_type": "code",
      "source": [
        "#Gráfico de correlação da Base de Dados de Benefícios\n",
        "plt.figure(figsize=(15,5))\n",
        "sns.heatmap(df_ben.corr(),annot= True,cmap='Blues')"
      ],
      "metadata": {
        "id": "owJnaes2JccI"
      },
      "execution_count": null,
      "outputs": []
    },
    {
      "cell_type": "markdown",
      "source": [
        "Como podemos ver, não há muita correlaçao entre os atributos numéricos da base"
      ],
      "metadata": {
        "id": "Jr4-I2lGKcsS"
      }
    },
    {
      "cell_type": "code",
      "source": [
        "#Média de SM da RMI por Sexo\n",
        "df_ben4 = df_ben[df_ben['Sexo'] == 'Masculino'].groupby('Sexo').agg({'Qt SM RMI':'mean'})\n",
        "df_ben3 = df_ben.loc[:,['Sexo','Qt SM RMI']]\n",
        "df_ben3 = df_ben[df_ben['Sexo'] == 'Feminino'].groupby('Sexo').agg({'Qt SM RMI':'mean'})\n",
        "f, axes = plt.subplots(1, 2)\n",
        "df_ben3.plot(figsize=(10,5), kind='bar', ax=axes[0],color={\"pink\"})\n",
        "df_ben4.plot(figsize=(10,5), kind='bar', ax=axes[1],color={\"Skyblue\"})\n",
        "plt.title('Média de SM do RMI x Sexo')"
      ],
      "metadata": {
        "id": "Kcl6l9HpfB4t"
      },
      "execution_count": null,
      "outputs": []
    },
    {
      "cell_type": "code",
      "source": [
        "#SM Máximo da RMI por Sexo\n",
        "df_ben4 = df_ben[df_ben['Sexo'] == 'Masculino'].groupby('Sexo').agg({'Qt SM RMI':'max'})\n",
        "df_ben3 = df_ben.loc[:,['Sexo','Qt SM RMI']]\n",
        "df_ben3 = df_ben[df_ben['Sexo'] == 'Feminino'].groupby('Sexo').agg({'Qt SM RMI':'max'})\n",
        "f, axes = plt.subplots(1, 2)\n",
        "df_ben3.plot(figsize=(10,5), kind='bar', ax=axes[0],color={\"pink\"})\n",
        "df_ben4.plot(figsize=(10,5), kind='bar', ax=axes[1],color={\"Skyblue\"})\n",
        "plt.title('SM Máximo do RMI x Sexo')"
      ],
      "metadata": {
        "id": "c5v9Pn78mll0"
      },
      "execution_count": null,
      "outputs": []
    },
    {
      "cell_type": "markdown",
      "source": [
        "Podemos verificar que o Salário Masculino é maior na média do RMI e que o maior Salário do benefício é masculino."
      ],
      "metadata": {
        "id": "v2HkgtKDnwve"
      }
    },
    {
      "cell_type": "markdown",
      "metadata": {
        "id": "9aqk38gBDl0H"
      },
      "source": [
        "## 4 - ML - Treino e Teste\n",
        "\n",
        "---\n",
        "\n"
      ]
    },
    {
      "cell_type": "markdown",
      "source": [
        "Devido ao tamanho da planilha, a mesma será filtrada apenas para processos com Ação Judicial, pois com o tamanho total da planilha está estourando a memória no Colab"
      ],
      "metadata": {
        "id": "6EEGJhIodYjH"
      }
    },
    {
      "cell_type": "code",
      "source": [
        "#Redução do DF para processos com Ação Judicial\n",
        "df_ben = df_ben[df_ben['Despacho'] == 'Acao Judicial']\n",
        "df_ben"
      ],
      "metadata": {
        "id": "VHU2rNVUa9tQ"
      },
      "execution_count": null,
      "outputs": []
    },
    {
      "cell_type": "code",
      "execution_count": null,
      "metadata": {
        "id": "T2dhhGxTKiVD"
      },
      "outputs": [],
      "source": [
        "# Separando os valores do dataset em componentes de input (X) e output (Y)\n",
        "X = df_ben.values[:,0:9]\n",
        "Y = df_ben.values[:,9]"
      ]
    },
    {
      "cell_type": "code",
      "source": [
        "print(X)"
      ],
      "metadata": {
        "id": "kMkR3V4pOP8i"
      },
      "execution_count": null,
      "outputs": []
    },
    {
      "cell_type": "code",
      "source": [
        "# ordinal encoding para os atributos X\n",
        "encoded_X = OrdinalEncoder().fit_transform(X)\n",
        "\n",
        "# exibindo os dados transformados\n",
        "print(\"Atributos transformados:\")\n",
        "print(encoded_X[:5, :]) # 5 primeiras linhas, todas as colunas"
      ],
      "metadata": {
        "id": "F2uxL3xwObLR"
      },
      "execution_count": null,
      "outputs": []
    },
    {
      "cell_type": "code",
      "source": [
        "df_ben"
      ],
      "metadata": {
        "id": "H6NfYQu8WB89"
      },
      "execution_count": null,
      "outputs": []
    },
    {
      "cell_type": "code",
      "source": [
        "# one hot encode para os atributos X\n",
        "encoded_X = OneHotEncoder(sparse=False).fit_transform(X)\n",
        "\n",
        "# exibindo os dados transformados\n",
        "print(\"Atributos transformados:\")\n",
        "print(encoded_X[:5, :])"
      ],
      "metadata": {
        "id": "17zblbu_Pw87"
      },
      "execution_count": null,
      "outputs": []
    },
    {
      "cell_type": "code",
      "source": [
        "X_treino, X_teste, Y_treino, Y_teste = train_test_split(X, Y, random_state=10)"
      ],
      "metadata": {
        "id": "gpjTKwBlR77_"
      },
      "execution_count": null,
      "outputs": []
    },
    {
      "cell_type": "code",
      "source": [
        "X_treino"
      ],
      "metadata": {
        "id": "7E8izPNDdQli"
      },
      "execution_count": null,
      "outputs": []
    }
  ],
  "metadata": {
    "colab": {
      "provenance": [],
      "include_colab_link": true
    },
    "kernelspec": {
      "display_name": "Python 3 (ipykernel)",
      "language": "python",
      "name": "python3"
    },
    "language_info": {
      "codemirror_mode": {
        "name": "ipython",
        "version": 3
      },
      "file_extension": ".py",
      "mimetype": "text/x-python",
      "name": "python",
      "nbconvert_exporter": "python",
      "pygments_lexer": "ipython3",
      "version": "3.10.9"
    }
  },
  "nbformat": 4,
  "nbformat_minor": 0
}